{
 "cells": [
  {
   "cell_type": "markdown",
   "metadata": {
    "extensions": {
     "jupyter_dashboards": {
      "version": 1,
      "views": {
       "grid_default": {
        "col": 0,
        "height": 4,
        "hidden": false,
        "row": 0,
        "width": 4
       },
       "report_default": {
        "hidden": false
       }
      }
     }
    }
   },
   "source": [
    "# Project: Wrangling and Analyze Data"
   ]
  },
  {
   "cell_type": "markdown",
   "metadata": {},
   "source": [
    "## Data Gathering\n",
    "1. Directly download the WeRateDogs Twitter archive data (twitter_archive_enhanced.csv)"
   ]
  },
  {
   "cell_type": "code",
   "execution_count": 32,
   "metadata": {
    "extensions": {
     "jupyter_dashboards": {
      "version": 1,
      "views": {
       "grid_default": {
        "hidden": true
       },
       "report_default": {
        "hidden": true
       }
      }
     }
    }
   },
   "outputs": [],
   "source": [
    "# installing libraries\n",
    "import pandas as pd\n",
    "import requests\n",
    "import numpy as np\n",
    "import tweepy\n",
    "from tweepy import OAuthHandler\n",
    "from timeit import default_timer as timer\n",
    "import matplotlib.pyplot as plt\n",
    "import seaborn as sns\n",
    "import json\n",
    "from datetime import datetime"
   ]
  },
  {
   "cell_type": "code",
   "execution_count": 33,
   "metadata": {},
   "outputs": [],
   "source": [
    "# reading the twitter_archive csv file into a pandas dataframe\n",
    "twitter_archive = pd.read_csv(\"twitter-archive-enhanced.csv\")\n"
   ]
  },
  {
   "cell_type": "code",
   "execution_count": 34,
   "metadata": {},
   "outputs": [
    {
     "data": {
      "text/html": [
       "<div>\n",
       "<style scoped>\n",
       "    .dataframe tbody tr th:only-of-type {\n",
       "        vertical-align: middle;\n",
       "    }\n",
       "\n",
       "    .dataframe tbody tr th {\n",
       "        vertical-align: top;\n",
       "    }\n",
       "\n",
       "    .dataframe thead th {\n",
       "        text-align: right;\n",
       "    }\n",
       "</style>\n",
       "<table border=\"1\" class=\"dataframe\">\n",
       "  <thead>\n",
       "    <tr style=\"text-align: right;\">\n",
       "      <th></th>\n",
       "      <th>tweet_id</th>\n",
       "      <th>in_reply_to_status_id</th>\n",
       "      <th>in_reply_to_user_id</th>\n",
       "      <th>timestamp</th>\n",
       "      <th>source</th>\n",
       "      <th>text</th>\n",
       "      <th>retweeted_status_id</th>\n",
       "      <th>retweeted_status_user_id</th>\n",
       "      <th>retweeted_status_timestamp</th>\n",
       "      <th>expanded_urls</th>\n",
       "      <th>rating_numerator</th>\n",
       "      <th>rating_denominator</th>\n",
       "      <th>name</th>\n",
       "      <th>doggo</th>\n",
       "      <th>floofer</th>\n",
       "      <th>pupper</th>\n",
       "      <th>puppo</th>\n",
       "    </tr>\n",
       "  </thead>\n",
       "  <tbody>\n",
       "    <tr>\n",
       "      <th>0</th>\n",
       "      <td>892420643555336193</td>\n",
       "      <td>NaN</td>\n",
       "      <td>NaN</td>\n",
       "      <td>2017-08-01 16:23:56 +0000</td>\n",
       "      <td>&lt;a href=\"http://twitter.com/download/iphone\" r...</td>\n",
       "      <td>This is Phineas. He's a mystical boy. Only eve...</td>\n",
       "      <td>NaN</td>\n",
       "      <td>NaN</td>\n",
       "      <td>NaN</td>\n",
       "      <td>https://twitter.com/dog_rates/status/892420643...</td>\n",
       "      <td>13</td>\n",
       "      <td>10</td>\n",
       "      <td>Phineas</td>\n",
       "      <td>None</td>\n",
       "      <td>None</td>\n",
       "      <td>None</td>\n",
       "      <td>None</td>\n",
       "    </tr>\n",
       "    <tr>\n",
       "      <th>1</th>\n",
       "      <td>892177421306343426</td>\n",
       "      <td>NaN</td>\n",
       "      <td>NaN</td>\n",
       "      <td>2017-08-01 00:17:27 +0000</td>\n",
       "      <td>&lt;a href=\"http://twitter.com/download/iphone\" r...</td>\n",
       "      <td>This is Tilly. She's just checking pup on you....</td>\n",
       "      <td>NaN</td>\n",
       "      <td>NaN</td>\n",
       "      <td>NaN</td>\n",
       "      <td>https://twitter.com/dog_rates/status/892177421...</td>\n",
       "      <td>13</td>\n",
       "      <td>10</td>\n",
       "      <td>Tilly</td>\n",
       "      <td>None</td>\n",
       "      <td>None</td>\n",
       "      <td>None</td>\n",
       "      <td>None</td>\n",
       "    </tr>\n",
       "    <tr>\n",
       "      <th>2</th>\n",
       "      <td>891815181378084864</td>\n",
       "      <td>NaN</td>\n",
       "      <td>NaN</td>\n",
       "      <td>2017-07-31 00:18:03 +0000</td>\n",
       "      <td>&lt;a href=\"http://twitter.com/download/iphone\" r...</td>\n",
       "      <td>This is Archie. He is a rare Norwegian Pouncin...</td>\n",
       "      <td>NaN</td>\n",
       "      <td>NaN</td>\n",
       "      <td>NaN</td>\n",
       "      <td>https://twitter.com/dog_rates/status/891815181...</td>\n",
       "      <td>12</td>\n",
       "      <td>10</td>\n",
       "      <td>Archie</td>\n",
       "      <td>None</td>\n",
       "      <td>None</td>\n",
       "      <td>None</td>\n",
       "      <td>None</td>\n",
       "    </tr>\n",
       "    <tr>\n",
       "      <th>3</th>\n",
       "      <td>891689557279858688</td>\n",
       "      <td>NaN</td>\n",
       "      <td>NaN</td>\n",
       "      <td>2017-07-30 15:58:51 +0000</td>\n",
       "      <td>&lt;a href=\"http://twitter.com/download/iphone\" r...</td>\n",
       "      <td>This is Darla. She commenced a snooze mid meal...</td>\n",
       "      <td>NaN</td>\n",
       "      <td>NaN</td>\n",
       "      <td>NaN</td>\n",
       "      <td>https://twitter.com/dog_rates/status/891689557...</td>\n",
       "      <td>13</td>\n",
       "      <td>10</td>\n",
       "      <td>Darla</td>\n",
       "      <td>None</td>\n",
       "      <td>None</td>\n",
       "      <td>None</td>\n",
       "      <td>None</td>\n",
       "    </tr>\n",
       "    <tr>\n",
       "      <th>4</th>\n",
       "      <td>891327558926688256</td>\n",
       "      <td>NaN</td>\n",
       "      <td>NaN</td>\n",
       "      <td>2017-07-29 16:00:24 +0000</td>\n",
       "      <td>&lt;a href=\"http://twitter.com/download/iphone\" r...</td>\n",
       "      <td>This is Franklin. He would like you to stop ca...</td>\n",
       "      <td>NaN</td>\n",
       "      <td>NaN</td>\n",
       "      <td>NaN</td>\n",
       "      <td>https://twitter.com/dog_rates/status/891327558...</td>\n",
       "      <td>12</td>\n",
       "      <td>10</td>\n",
       "      <td>Franklin</td>\n",
       "      <td>None</td>\n",
       "      <td>None</td>\n",
       "      <td>None</td>\n",
       "      <td>None</td>\n",
       "    </tr>\n",
       "  </tbody>\n",
       "</table>\n",
       "</div>"
      ],
      "text/plain": [
       "             tweet_id  in_reply_to_status_id  in_reply_to_user_id  \\\n",
       "0  892420643555336193                    NaN                  NaN   \n",
       "1  892177421306343426                    NaN                  NaN   \n",
       "2  891815181378084864                    NaN                  NaN   \n",
       "3  891689557279858688                    NaN                  NaN   \n",
       "4  891327558926688256                    NaN                  NaN   \n",
       "\n",
       "                   timestamp  \\\n",
       "0  2017-08-01 16:23:56 +0000   \n",
       "1  2017-08-01 00:17:27 +0000   \n",
       "2  2017-07-31 00:18:03 +0000   \n",
       "3  2017-07-30 15:58:51 +0000   \n",
       "4  2017-07-29 16:00:24 +0000   \n",
       "\n",
       "                                              source  \\\n",
       "0  <a href=\"http://twitter.com/download/iphone\" r...   \n",
       "1  <a href=\"http://twitter.com/download/iphone\" r...   \n",
       "2  <a href=\"http://twitter.com/download/iphone\" r...   \n",
       "3  <a href=\"http://twitter.com/download/iphone\" r...   \n",
       "4  <a href=\"http://twitter.com/download/iphone\" r...   \n",
       "\n",
       "                                                text  retweeted_status_id  \\\n",
       "0  This is Phineas. He's a mystical boy. Only eve...                  NaN   \n",
       "1  This is Tilly. She's just checking pup on you....                  NaN   \n",
       "2  This is Archie. He is a rare Norwegian Pouncin...                  NaN   \n",
       "3  This is Darla. She commenced a snooze mid meal...                  NaN   \n",
       "4  This is Franklin. He would like you to stop ca...                  NaN   \n",
       "\n",
       "   retweeted_status_user_id retweeted_status_timestamp  \\\n",
       "0                       NaN                        NaN   \n",
       "1                       NaN                        NaN   \n",
       "2                       NaN                        NaN   \n",
       "3                       NaN                        NaN   \n",
       "4                       NaN                        NaN   \n",
       "\n",
       "                                       expanded_urls  rating_numerator  \\\n",
       "0  https://twitter.com/dog_rates/status/892420643...                13   \n",
       "1  https://twitter.com/dog_rates/status/892177421...                13   \n",
       "2  https://twitter.com/dog_rates/status/891815181...                12   \n",
       "3  https://twitter.com/dog_rates/status/891689557...                13   \n",
       "4  https://twitter.com/dog_rates/status/891327558...                12   \n",
       "\n",
       "   rating_denominator      name doggo floofer pupper puppo  \n",
       "0                  10   Phineas  None    None   None  None  \n",
       "1                  10     Tilly  None    None   None  None  \n",
       "2                  10    Archie  None    None   None  None  \n",
       "3                  10     Darla  None    None   None  None  \n",
       "4                  10  Franklin  None    None   None  None  "
      ]
     },
     "execution_count": 34,
     "metadata": {},
     "output_type": "execute_result"
    }
   ],
   "source": [
    "twitter_archive.head()"
   ]
  },
  {
   "cell_type": "code",
   "execution_count": 35,
   "metadata": {},
   "outputs": [],
   "source": [
    "# using Requests library to download the image predictions dataset\n",
    "url = \"https://d17h27t6h515a5.cloudfront.net/topher/2017/August/599fd2ad_image-predictions/image-predictions.tsv\"\n",
    "r = requests.get(url)\n",
    "with open(\"image_predictions.tsv\", \"wb\") as file:\n",
    "    file.write(r.content)\n"
   ]
  },
  {
   "cell_type": "code",
   "execution_count": 36,
   "metadata": {},
   "outputs": [],
   "source": [
    "# reading the image predictions file into a pandas dataframe\n",
    "image_predictions = pd.read_csv('image_predictions.tsv', sep='\\t', header=0)"
   ]
  },
  {
   "cell_type": "code",
   "execution_count": 37,
   "metadata": {},
   "outputs": [
    {
     "data": {
      "text/html": [
       "<div>\n",
       "<style scoped>\n",
       "    .dataframe tbody tr th:only-of-type {\n",
       "        vertical-align: middle;\n",
       "    }\n",
       "\n",
       "    .dataframe tbody tr th {\n",
       "        vertical-align: top;\n",
       "    }\n",
       "\n",
       "    .dataframe thead th {\n",
       "        text-align: right;\n",
       "    }\n",
       "</style>\n",
       "<table border=\"1\" class=\"dataframe\">\n",
       "  <thead>\n",
       "    <tr style=\"text-align: right;\">\n",
       "      <th></th>\n",
       "      <th>tweet_id</th>\n",
       "      <th>jpg_url</th>\n",
       "      <th>img_num</th>\n",
       "      <th>p1</th>\n",
       "      <th>p1_conf</th>\n",
       "      <th>p1_dog</th>\n",
       "      <th>p2</th>\n",
       "      <th>p2_conf</th>\n",
       "      <th>p2_dog</th>\n",
       "      <th>p3</th>\n",
       "      <th>p3_conf</th>\n",
       "      <th>p3_dog</th>\n",
       "    </tr>\n",
       "  </thead>\n",
       "  <tbody>\n",
       "    <tr>\n",
       "      <th>0</th>\n",
       "      <td>666020888022790149</td>\n",
       "      <td>https://pbs.twimg.com/media/CT4udn0WwAA0aMy.jpg</td>\n",
       "      <td>1</td>\n",
       "      <td>Welsh_springer_spaniel</td>\n",
       "      <td>0.465074</td>\n",
       "      <td>True</td>\n",
       "      <td>collie</td>\n",
       "      <td>0.156665</td>\n",
       "      <td>True</td>\n",
       "      <td>Shetland_sheepdog</td>\n",
       "      <td>0.061428</td>\n",
       "      <td>True</td>\n",
       "    </tr>\n",
       "    <tr>\n",
       "      <th>1</th>\n",
       "      <td>666029285002620928</td>\n",
       "      <td>https://pbs.twimg.com/media/CT42GRgUYAA5iDo.jpg</td>\n",
       "      <td>1</td>\n",
       "      <td>redbone</td>\n",
       "      <td>0.506826</td>\n",
       "      <td>True</td>\n",
       "      <td>miniature_pinscher</td>\n",
       "      <td>0.074192</td>\n",
       "      <td>True</td>\n",
       "      <td>Rhodesian_ridgeback</td>\n",
       "      <td>0.072010</td>\n",
       "      <td>True</td>\n",
       "    </tr>\n",
       "    <tr>\n",
       "      <th>2</th>\n",
       "      <td>666033412701032449</td>\n",
       "      <td>https://pbs.twimg.com/media/CT4521TWwAEvMyu.jpg</td>\n",
       "      <td>1</td>\n",
       "      <td>German_shepherd</td>\n",
       "      <td>0.596461</td>\n",
       "      <td>True</td>\n",
       "      <td>malinois</td>\n",
       "      <td>0.138584</td>\n",
       "      <td>True</td>\n",
       "      <td>bloodhound</td>\n",
       "      <td>0.116197</td>\n",
       "      <td>True</td>\n",
       "    </tr>\n",
       "    <tr>\n",
       "      <th>3</th>\n",
       "      <td>666044226329800704</td>\n",
       "      <td>https://pbs.twimg.com/media/CT5Dr8HUEAA-lEu.jpg</td>\n",
       "      <td>1</td>\n",
       "      <td>Rhodesian_ridgeback</td>\n",
       "      <td>0.408143</td>\n",
       "      <td>True</td>\n",
       "      <td>redbone</td>\n",
       "      <td>0.360687</td>\n",
       "      <td>True</td>\n",
       "      <td>miniature_pinscher</td>\n",
       "      <td>0.222752</td>\n",
       "      <td>True</td>\n",
       "    </tr>\n",
       "    <tr>\n",
       "      <th>4</th>\n",
       "      <td>666049248165822465</td>\n",
       "      <td>https://pbs.twimg.com/media/CT5IQmsXIAAKY4A.jpg</td>\n",
       "      <td>1</td>\n",
       "      <td>miniature_pinscher</td>\n",
       "      <td>0.560311</td>\n",
       "      <td>True</td>\n",
       "      <td>Rottweiler</td>\n",
       "      <td>0.243682</td>\n",
       "      <td>True</td>\n",
       "      <td>Doberman</td>\n",
       "      <td>0.154629</td>\n",
       "      <td>True</td>\n",
       "    </tr>\n",
       "  </tbody>\n",
       "</table>\n",
       "</div>"
      ],
      "text/plain": [
       "             tweet_id                                          jpg_url  \\\n",
       "0  666020888022790149  https://pbs.twimg.com/media/CT4udn0WwAA0aMy.jpg   \n",
       "1  666029285002620928  https://pbs.twimg.com/media/CT42GRgUYAA5iDo.jpg   \n",
       "2  666033412701032449  https://pbs.twimg.com/media/CT4521TWwAEvMyu.jpg   \n",
       "3  666044226329800704  https://pbs.twimg.com/media/CT5Dr8HUEAA-lEu.jpg   \n",
       "4  666049248165822465  https://pbs.twimg.com/media/CT5IQmsXIAAKY4A.jpg   \n",
       "\n",
       "   img_num                      p1   p1_conf  p1_dog                  p2  \\\n",
       "0        1  Welsh_springer_spaniel  0.465074    True              collie   \n",
       "1        1                 redbone  0.506826    True  miniature_pinscher   \n",
       "2        1         German_shepherd  0.596461    True            malinois   \n",
       "3        1     Rhodesian_ridgeback  0.408143    True             redbone   \n",
       "4        1      miniature_pinscher  0.560311    True          Rottweiler   \n",
       "\n",
       "    p2_conf  p2_dog                   p3   p3_conf  p3_dog  \n",
       "0  0.156665    True    Shetland_sheepdog  0.061428    True  \n",
       "1  0.074192    True  Rhodesian_ridgeback  0.072010    True  \n",
       "2  0.138584    True           bloodhound  0.116197    True  \n",
       "3  0.360687    True   miniature_pinscher  0.222752    True  \n",
       "4  0.243682    True             Doberman  0.154629    True  "
      ]
     },
     "execution_count": 37,
     "metadata": {},
     "output_type": "execute_result"
    }
   ],
   "source": [
    "image_predictions.head()"
   ]
  },
  {
   "cell_type": "code",
   "execution_count": 38,
   "metadata": {},
   "outputs": [],
   "source": [
    "# using Tweepy to query additional data via the Twitter API\n",
    "consumer_key = 'HIDDEN'\n",
    "consumer_secret = 'HIDDEN'\n",
    "access_token = 'HIDDEN'\n",
    "access_secret = 'HIDDEN'\n",
    "\n",
    "auth = OAuthHandler(consumer_key, consumer_secret)\n",
    "auth.set_access_token(access_token, access_secret)\n",
    "\n",
    "api = tweepy.API(auth, wait_on_rate_limit=True)"
   ]
  },
  {
   "cell_type": "code",
   "execution_count": 39,
   "metadata": {},
   "outputs": [
    {
     "data": {
      "text/plain": [
       "'\\n# NOTE TO REVIEWER: this student had mobile verification issues so the following\\n# Twitter API code was sent to this student from a Udacity instructor\\n# Tweet IDs for which to gather additional data via Twitter\\'s API\\ntweet_ids = twitter_archive.tweet_id.values\\nlen(tweet_ids)\\n\\n# Query Twitter\\'s API for JSON data for each tweet ID in the Twitter archive\\ncount = 0\\nfails_dict = {}\\nstart = timer()\\n# Save each tweet\\'s returned JSON as a new line in a .txt file\\nwith open(\\'tweet_json.txt\\', \\'w\\') as outfile:\\n    # This loop will likely take 20-30 minutes to run because of Twitter\\'s rate limit\\n    for tweet_id in tweet_ids:\\n        count += 1\\n        print(str(count) + \": \" + str(tweet_id))\\n        try:\\n            tweet = api.get_status(tweet_id, tweet_mode=\\'extended\\')\\n            print(\"Success\")\\n            json.dump(tweet._json, outfile)\\n            outfile.write(\\'\\n\\')\\n        except tweepy.errors.TweepyException as e:\\n            print(\"Fail\")\\n            fails_dict[tweet_id] = e\\n            pass\\nend = timer()\\nprint(end - start)\\nprint(fails_dict)\\n'"
      ]
     },
     "execution_count": 39,
     "metadata": {},
     "output_type": "execute_result"
    }
   ],
   "source": [
    "'''\n",
    "# NOTE TO REVIEWER: this student had mobile verification issues so the following\n",
    "# Twitter API code was sent to this student from a Udacity instructor\n",
    "# Tweet IDs for which to gather additional data via Twitter's API\n",
    "tweet_ids = twitter_archive.tweet_id.values\n",
    "len(tweet_ids)\n",
    "\n",
    "# Query Twitter's API for JSON data for each tweet ID in the Twitter archive\n",
    "count = 0\n",
    "fails_dict = {}\n",
    "start = timer()\n",
    "# Save each tweet's returned JSON as a new line in a .txt file\n",
    "with open('tweet_json.txt', 'w') as outfile:\n",
    "    # This loop will likely take 20-30 minutes to run because of Twitter's rate limit\n",
    "    for tweet_id in tweet_ids:\n",
    "        count += 1\n",
    "        print(str(count) + \": \" + str(tweet_id))\n",
    "        try:\n",
    "            tweet = api.get_status(tweet_id, tweet_mode='extended')\n",
    "            print(\"Success\")\n",
    "            json.dump(tweet._json, outfile)\n",
    "            outfile.write('\\n')\n",
    "        except tweepy.errors.TweepyException as e:\n",
    "            print(\"Fail\")\n",
    "            fails_dict[tweet_id] = e\n",
    "            pass\n",
    "end = timer()\n",
    "print(end - start)\n",
    "print(fails_dict)\n",
    "'''"
   ]
  },
  {
   "cell_type": "code",
   "execution_count": 40,
   "metadata": {},
   "outputs": [],
   "source": [
    "# Processing tweet-json file\n",
    "# first, I changed it to a json file\n",
    "# then, I appended the content of the json file to a list\n",
    "additional_data = []\n",
    "for line in open('tweet-json.json', 'r'):\n",
    "    additional_data.append(json.loads(line))\n"
   ]
  },
  {
   "cell_type": "code",
   "execution_count": 41,
   "metadata": {},
   "outputs": [],
   "source": [
    "# here, I am extracting the id, retweet count and favorite count from additional_data list to a new list that I will append to another list\n",
    "dataframe_list = []\n",
    "for line in additional_data:\n",
    "    dataframe_list.append((line['id'], line['retweet_count'], line['favorite_count']))"
   ]
  },
  {
   "cell_type": "code",
   "execution_count": 42,
   "metadata": {},
   "outputs": [],
   "source": [
    "# converting dataframe_list to a Pandas Dataframe\n",
    "additional_data_df = pd.DataFrame(dataframe_list, columns=['tweet_id', 'retweet_count', 'favourite_count'])"
   ]
  },
  {
   "cell_type": "code",
   "execution_count": 43,
   "metadata": {},
   "outputs": [
    {
     "data": {
      "text/html": [
       "<div>\n",
       "<style scoped>\n",
       "    .dataframe tbody tr th:only-of-type {\n",
       "        vertical-align: middle;\n",
       "    }\n",
       "\n",
       "    .dataframe tbody tr th {\n",
       "        vertical-align: top;\n",
       "    }\n",
       "\n",
       "    .dataframe thead th {\n",
       "        text-align: right;\n",
       "    }\n",
       "</style>\n",
       "<table border=\"1\" class=\"dataframe\">\n",
       "  <thead>\n",
       "    <tr style=\"text-align: right;\">\n",
       "      <th></th>\n",
       "      <th>tweet_id</th>\n",
       "      <th>retweet_count</th>\n",
       "      <th>favourite_count</th>\n",
       "    </tr>\n",
       "  </thead>\n",
       "  <tbody>\n",
       "    <tr>\n",
       "      <th>0</th>\n",
       "      <td>892420643555336193</td>\n",
       "      <td>8853</td>\n",
       "      <td>39467</td>\n",
       "    </tr>\n",
       "    <tr>\n",
       "      <th>1</th>\n",
       "      <td>892177421306343426</td>\n",
       "      <td>6514</td>\n",
       "      <td>33819</td>\n",
       "    </tr>\n",
       "    <tr>\n",
       "      <th>2</th>\n",
       "      <td>891815181378084864</td>\n",
       "      <td>4328</td>\n",
       "      <td>25461</td>\n",
       "    </tr>\n",
       "    <tr>\n",
       "      <th>3</th>\n",
       "      <td>891689557279858688</td>\n",
       "      <td>8964</td>\n",
       "      <td>42908</td>\n",
       "    </tr>\n",
       "    <tr>\n",
       "      <th>4</th>\n",
       "      <td>891327558926688256</td>\n",
       "      <td>9774</td>\n",
       "      <td>41048</td>\n",
       "    </tr>\n",
       "  </tbody>\n",
       "</table>\n",
       "</div>"
      ],
      "text/plain": [
       "             tweet_id  retweet_count  favourite_count\n",
       "0  892420643555336193           8853            39467\n",
       "1  892177421306343426           6514            33819\n",
       "2  891815181378084864           4328            25461\n",
       "3  891689557279858688           8964            42908\n",
       "4  891327558926688256           9774            41048"
      ]
     },
     "execution_count": 43,
     "metadata": {},
     "output_type": "execute_result"
    }
   ],
   "source": [
    "additional_data_df.head()"
   ]
  },
  {
   "cell_type": "code",
   "execution_count": 44,
   "metadata": {},
   "outputs": [
    {
     "data": {
      "text/html": [
       "<div>\n",
       "<style scoped>\n",
       "    .dataframe tbody tr th:only-of-type {\n",
       "        vertical-align: middle;\n",
       "    }\n",
       "\n",
       "    .dataframe tbody tr th {\n",
       "        vertical-align: top;\n",
       "    }\n",
       "\n",
       "    .dataframe thead th {\n",
       "        text-align: right;\n",
       "    }\n",
       "</style>\n",
       "<table border=\"1\" class=\"dataframe\">\n",
       "  <thead>\n",
       "    <tr style=\"text-align: right;\">\n",
       "      <th></th>\n",
       "      <th>tweet_id</th>\n",
       "      <th>text</th>\n",
       "      <th>expanded_urls</th>\n",
       "    </tr>\n",
       "  </thead>\n",
       "  <tbody>\n",
       "    <tr>\n",
       "      <th>19</th>\n",
       "      <td>888202515573088257</td>\n",
       "      <td>RT @dog_rates: This is Canela. She attempted s...</td>\n",
       "      <td>https://twitter.com/dog_rates/status/887473957...</td>\n",
       "    </tr>\n",
       "    <tr>\n",
       "      <th>32</th>\n",
       "      <td>886054160059072513</td>\n",
       "      <td>RT @Athletics: 12/10 #BATP https://t.co/WxwJmv...</td>\n",
       "      <td>https://twitter.com/dog_rates/status/886053434...</td>\n",
       "    </tr>\n",
       "    <tr>\n",
       "      <th>36</th>\n",
       "      <td>885311592912609280</td>\n",
       "      <td>RT @dog_rates: This is Lilly. She just paralle...</td>\n",
       "      <td>https://twitter.com/dog_rates/status/830583320...</td>\n",
       "    </tr>\n",
       "    <tr>\n",
       "      <th>68</th>\n",
       "      <td>879130579576475649</td>\n",
       "      <td>RT @dog_rates: This is Emmy. She was adopted t...</td>\n",
       "      <td>https://twitter.com/dog_rates/status/878057613...</td>\n",
       "    </tr>\n",
       "    <tr>\n",
       "      <th>73</th>\n",
       "      <td>878404777348136964</td>\n",
       "      <td>RT @dog_rates: Meet Shadow. In an attempt to r...</td>\n",
       "      <td>https://www.gofundme.com/3yd6y1c,https://twitt...</td>\n",
       "    </tr>\n",
       "    <tr>\n",
       "      <th>...</th>\n",
       "      <td>...</td>\n",
       "      <td>...</td>\n",
       "      <td>...</td>\n",
       "    </tr>\n",
       "    <tr>\n",
       "      <th>1023</th>\n",
       "      <td>746521445350707200</td>\n",
       "      <td>RT @dog_rates: This is Shaggy. He knows exactl...</td>\n",
       "      <td>https://twitter.com/dog_rates/status/667866724...</td>\n",
       "    </tr>\n",
       "    <tr>\n",
       "      <th>1043</th>\n",
       "      <td>743835915802583040</td>\n",
       "      <td>RT @dog_rates: Extremely intelligent dog here....</td>\n",
       "      <td>https://twitter.com/dog_rates/status/667138269...</td>\n",
       "    </tr>\n",
       "    <tr>\n",
       "      <th>1242</th>\n",
       "      <td>711998809858043904</td>\n",
       "      <td>RT @twitter: @dog_rates Awesome Tweet! 12/10. ...</td>\n",
       "      <td>https://twitter.com/twitter/status/71199827977...</td>\n",
       "    </tr>\n",
       "    <tr>\n",
       "      <th>2259</th>\n",
       "      <td>667550904950915073</td>\n",
       "      <td>RT @dogratingrating: Exceptional talent. Origi...</td>\n",
       "      <td>https://twitter.com/dogratingrating/status/667...</td>\n",
       "    </tr>\n",
       "    <tr>\n",
       "      <th>2260</th>\n",
       "      <td>667550882905632768</td>\n",
       "      <td>RT @dogratingrating: Unoriginal idea. Blatant ...</td>\n",
       "      <td>https://twitter.com/dogratingrating/status/667...</td>\n",
       "    </tr>\n",
       "  </tbody>\n",
       "</table>\n",
       "<p>181 rows × 3 columns</p>\n",
       "</div>"
      ],
      "text/plain": [
       "                tweet_id                                               text  \\\n",
       "19    888202515573088257  RT @dog_rates: This is Canela. She attempted s...   \n",
       "32    886054160059072513  RT @Athletics: 12/10 #BATP https://t.co/WxwJmv...   \n",
       "36    885311592912609280  RT @dog_rates: This is Lilly. She just paralle...   \n",
       "68    879130579576475649  RT @dog_rates: This is Emmy. She was adopted t...   \n",
       "73    878404777348136964  RT @dog_rates: Meet Shadow. In an attempt to r...   \n",
       "...                  ...                                                ...   \n",
       "1023  746521445350707200  RT @dog_rates: This is Shaggy. He knows exactl...   \n",
       "1043  743835915802583040  RT @dog_rates: Extremely intelligent dog here....   \n",
       "1242  711998809858043904  RT @twitter: @dog_rates Awesome Tweet! 12/10. ...   \n",
       "2259  667550904950915073  RT @dogratingrating: Exceptional talent. Origi...   \n",
       "2260  667550882905632768  RT @dogratingrating: Unoriginal idea. Blatant ...   \n",
       "\n",
       "                                          expanded_urls  \n",
       "19    https://twitter.com/dog_rates/status/887473957...  \n",
       "32    https://twitter.com/dog_rates/status/886053434...  \n",
       "36    https://twitter.com/dog_rates/status/830583320...  \n",
       "68    https://twitter.com/dog_rates/status/878057613...  \n",
       "73    https://www.gofundme.com/3yd6y1c,https://twitt...  \n",
       "...                                                 ...  \n",
       "1023  https://twitter.com/dog_rates/status/667866724...  \n",
       "1043  https://twitter.com/dog_rates/status/667138269...  \n",
       "1242  https://twitter.com/twitter/status/71199827977...  \n",
       "2259  https://twitter.com/dogratingrating/status/667...  \n",
       "2260  https://twitter.com/dogratingrating/status/667...  \n",
       "\n",
       "[181 rows x 3 columns]"
      ]
     },
     "execution_count": 44,
     "metadata": {},
     "output_type": "execute_result"
    }
   ],
   "source": [
    "# identifying retweets in twitter_archive\n",
    "rt_status = twitter_archive.loc[twitter_archive['retweeted_status_id'].notnull(), ['tweet_id', 'text', 'expanded_urls']]\n",
    "rt_status"
   ]
  },
  {
   "cell_type": "code",
   "execution_count": 45,
   "metadata": {},
   "outputs": [
    {
     "data": {
      "text/html": [
       "<div>\n",
       "<style scoped>\n",
       "    .dataframe tbody tr th:only-of-type {\n",
       "        vertical-align: middle;\n",
       "    }\n",
       "\n",
       "    .dataframe tbody tr th {\n",
       "        vertical-align: top;\n",
       "    }\n",
       "\n",
       "    .dataframe thead th {\n",
       "        text-align: right;\n",
       "    }\n",
       "</style>\n",
       "<table border=\"1\" class=\"dataframe\">\n",
       "  <thead>\n",
       "    <tr style=\"text-align: right;\">\n",
       "      <th></th>\n",
       "      <th>tweet_id</th>\n",
       "      <th>text</th>\n",
       "      <th>expanded_urls</th>\n",
       "    </tr>\n",
       "  </thead>\n",
       "  <tbody>\n",
       "    <tr>\n",
       "      <th>19</th>\n",
       "      <td>888202515573088257</td>\n",
       "      <td>RT @dog_rates: This is Canela. She attempted s...</td>\n",
       "      <td>https://twitter.com/dog_rates/status/887473957...</td>\n",
       "    </tr>\n",
       "    <tr>\n",
       "      <th>32</th>\n",
       "      <td>886054160059072513</td>\n",
       "      <td>RT @Athletics: 12/10 #BATP https://t.co/WxwJmv...</td>\n",
       "      <td>https://twitter.com/dog_rates/status/886053434...</td>\n",
       "    </tr>\n",
       "    <tr>\n",
       "      <th>36</th>\n",
       "      <td>885311592912609280</td>\n",
       "      <td>RT @dog_rates: This is Lilly. She just paralle...</td>\n",
       "      <td>https://twitter.com/dog_rates/status/830583320...</td>\n",
       "    </tr>\n",
       "    <tr>\n",
       "      <th>68</th>\n",
       "      <td>879130579576475649</td>\n",
       "      <td>RT @dog_rates: This is Emmy. She was adopted t...</td>\n",
       "      <td>https://twitter.com/dog_rates/status/878057613...</td>\n",
       "    </tr>\n",
       "    <tr>\n",
       "      <th>73</th>\n",
       "      <td>878404777348136964</td>\n",
       "      <td>RT @dog_rates: Meet Shadow. In an attempt to r...</td>\n",
       "      <td>https://www.gofundme.com/3yd6y1c,https://twitt...</td>\n",
       "    </tr>\n",
       "    <tr>\n",
       "      <th>74</th>\n",
       "      <td>878316110768087041</td>\n",
       "      <td>RT @dog_rates: Meet Terrance. He's being yelle...</td>\n",
       "      <td>https://twitter.com/dog_rates/status/669000397...</td>\n",
       "    </tr>\n",
       "    <tr>\n",
       "      <th>78</th>\n",
       "      <td>877611172832227328</td>\n",
       "      <td>RT @rachel2195: @dog_rates the boyfriend and h...</td>\n",
       "      <td>https://twitter.com/rachel2195/status/87685077...</td>\n",
       "    </tr>\n",
       "    <tr>\n",
       "      <th>91</th>\n",
       "      <td>874434818259525634</td>\n",
       "      <td>RT @dog_rates: This is Coco. At first I though...</td>\n",
       "      <td>https://twitter.com/dog_rates/status/866334964...</td>\n",
       "    </tr>\n",
       "    <tr>\n",
       "      <th>95</th>\n",
       "      <td>873697596434513921</td>\n",
       "      <td>RT @dog_rates: This is Walter. He won't start ...</td>\n",
       "      <td>https://twitter.com/dog_rates/status/868880397...</td>\n",
       "    </tr>\n",
       "    <tr>\n",
       "      <th>97</th>\n",
       "      <td>873337748698140672</td>\n",
       "      <td>RT @dog_rates: This is Sierra. She's one preci...</td>\n",
       "      <td>https://www.gofundme.com/help-my-baby-sierra-g...</td>\n",
       "    </tr>\n",
       "    <tr>\n",
       "      <th>101</th>\n",
       "      <td>872668790621863937</td>\n",
       "      <td>RT @loganamnosis: Penelope here is doing me qu...</td>\n",
       "      <td>https://twitter.com/loganamnosis/status/872657...</td>\n",
       "    </tr>\n",
       "    <tr>\n",
       "      <th>109</th>\n",
       "      <td>871166179821445120</td>\n",
       "      <td>RT @dog_rates: This is Dawn. She's just checki...</td>\n",
       "      <td>https://twitter.com/dog_rates/status/841077006...</td>\n",
       "    </tr>\n",
       "    <tr>\n",
       "      <th>118</th>\n",
       "      <td>869988702071779329</td>\n",
       "      <td>RT @dog_rates: We only rate dogs. This is quit...</td>\n",
       "      <td>https://twitter.com/dog_rates/status/859196978...</td>\n",
       "    </tr>\n",
       "    <tr>\n",
       "      <th>124</th>\n",
       "      <td>868639477480148993</td>\n",
       "      <td>RT @dog_rates: Say hello to Cooper. His expres...</td>\n",
       "      <td>https://www.gofundme.com/3ti3nps,https://twitt...</td>\n",
       "    </tr>\n",
       "    <tr>\n",
       "      <th>130</th>\n",
       "      <td>867072653475098625</td>\n",
       "      <td>RT @rachaeleasler: these @dog_rates hats are 1...</td>\n",
       "      <td>https://twitter.com/rachaeleasler/status/86501...</td>\n",
       "    </tr>\n",
       "    <tr>\n",
       "      <th>132</th>\n",
       "      <td>866816280283807744</td>\n",
       "      <td>RT @dog_rates: This is Jamesy. He gives a kiss...</td>\n",
       "      <td>https://twitter.com/dog_rates/status/866450705...</td>\n",
       "    </tr>\n",
       "    <tr>\n",
       "      <th>137</th>\n",
       "      <td>866094527597207552</td>\n",
       "      <td>RT @dog_rates: Here's a pupper before and afte...</td>\n",
       "      <td>https://twitter.com/dog_rates/status/837820167...</td>\n",
       "    </tr>\n",
       "    <tr>\n",
       "      <th>146</th>\n",
       "      <td>863471782782697472</td>\n",
       "      <td>RT @dog_rates: Say hello to Quinn. She's quite...</td>\n",
       "      <td>https://www.gofundme.com/helpquinny,https://tw...</td>\n",
       "    </tr>\n",
       "    <tr>\n",
       "      <th>155</th>\n",
       "      <td>861769973181624320</td>\n",
       "      <td>RT @dog_rates: \"Good afternoon class today we'...</td>\n",
       "      <td>https://twitter.com/dog_rates/status/806629075...</td>\n",
       "    </tr>\n",
       "    <tr>\n",
       "      <th>159</th>\n",
       "      <td>860981674716409858</td>\n",
       "      <td>RT @dog_rates: Meet Lorenzo. He's an avid nift...</td>\n",
       "      <td>https://www.gofundme.com/help-lorenzo-beat-can...</td>\n",
       "    </tr>\n",
       "  </tbody>\n",
       "</table>\n",
       "</div>"
      ],
      "text/plain": [
       "               tweet_id                                               text  \\\n",
       "19   888202515573088257  RT @dog_rates: This is Canela. She attempted s...   \n",
       "32   886054160059072513  RT @Athletics: 12/10 #BATP https://t.co/WxwJmv...   \n",
       "36   885311592912609280  RT @dog_rates: This is Lilly. She just paralle...   \n",
       "68   879130579576475649  RT @dog_rates: This is Emmy. She was adopted t...   \n",
       "73   878404777348136964  RT @dog_rates: Meet Shadow. In an attempt to r...   \n",
       "74   878316110768087041  RT @dog_rates: Meet Terrance. He's being yelle...   \n",
       "78   877611172832227328  RT @rachel2195: @dog_rates the boyfriend and h...   \n",
       "91   874434818259525634  RT @dog_rates: This is Coco. At first I though...   \n",
       "95   873697596434513921  RT @dog_rates: This is Walter. He won't start ...   \n",
       "97   873337748698140672  RT @dog_rates: This is Sierra. She's one preci...   \n",
       "101  872668790621863937  RT @loganamnosis: Penelope here is doing me qu...   \n",
       "109  871166179821445120  RT @dog_rates: This is Dawn. She's just checki...   \n",
       "118  869988702071779329  RT @dog_rates: We only rate dogs. This is quit...   \n",
       "124  868639477480148993  RT @dog_rates: Say hello to Cooper. His expres...   \n",
       "130  867072653475098625  RT @rachaeleasler: these @dog_rates hats are 1...   \n",
       "132  866816280283807744  RT @dog_rates: This is Jamesy. He gives a kiss...   \n",
       "137  866094527597207552  RT @dog_rates: Here's a pupper before and afte...   \n",
       "146  863471782782697472  RT @dog_rates: Say hello to Quinn. She's quite...   \n",
       "155  861769973181624320  RT @dog_rates: \"Good afternoon class today we'...   \n",
       "159  860981674716409858  RT @dog_rates: Meet Lorenzo. He's an avid nift...   \n",
       "\n",
       "                                         expanded_urls  \n",
       "19   https://twitter.com/dog_rates/status/887473957...  \n",
       "32   https://twitter.com/dog_rates/status/886053434...  \n",
       "36   https://twitter.com/dog_rates/status/830583320...  \n",
       "68   https://twitter.com/dog_rates/status/878057613...  \n",
       "73   https://www.gofundme.com/3yd6y1c,https://twitt...  \n",
       "74   https://twitter.com/dog_rates/status/669000397...  \n",
       "78   https://twitter.com/rachel2195/status/87685077...  \n",
       "91   https://twitter.com/dog_rates/status/866334964...  \n",
       "95   https://twitter.com/dog_rates/status/868880397...  \n",
       "97   https://www.gofundme.com/help-my-baby-sierra-g...  \n",
       "101  https://twitter.com/loganamnosis/status/872657...  \n",
       "109  https://twitter.com/dog_rates/status/841077006...  \n",
       "118  https://twitter.com/dog_rates/status/859196978...  \n",
       "124  https://www.gofundme.com/3ti3nps,https://twitt...  \n",
       "130  https://twitter.com/rachaeleasler/status/86501...  \n",
       "132  https://twitter.com/dog_rates/status/866450705...  \n",
       "137  https://twitter.com/dog_rates/status/837820167...  \n",
       "146  https://www.gofundme.com/helpquinny,https://tw...  \n",
       "155  https://twitter.com/dog_rates/status/806629075...  \n",
       "159  https://www.gofundme.com/help-lorenzo-beat-can...  "
      ]
     },
     "execution_count": 45,
     "metadata": {},
     "output_type": "execute_result"
    }
   ],
   "source": [
    "rt_status.head(20)"
   ]
  },
  {
   "cell_type": "markdown",
   "metadata": {
    "extensions": {
     "jupyter_dashboards": {
      "version": 1,
      "views": {
       "grid_default": {
        "col": 4,
        "height": 4,
        "hidden": false,
        "row": 28,
        "width": 4
       },
       "report_default": {
        "hidden": false
       }
      }
     }
    }
   },
   "source": [
    "## Assessing Data\n"
   ]
  },
  {
   "cell_type": "markdown",
   "metadata": {},
   "source": [
    "### Quality issues\n",
    "1. Dissimilar ordering of tweet id's in the three datasets\n",
    "\n",
    "2. Unncessary columns eg. source in twitter_archive dataset\n",
    "\n",
    "3. Retweets included in twitter_archive dataset\n",
    "\n",
    "4. Tweets with no images, ie in twitter_archive but not in image_predictions\n",
    "\n",
    "5. Missing values\n",
    "\n",
    "6. Some predictions are not dogs\n",
    "\n",
    "7 & 8. Date and time in string datatype and conjoined into one column\n",
    "\n",
    "9. Length of three dataframes not equal "
   ]
  },
  {
   "cell_type": "markdown",
   "metadata": {
    "extensions": {
     "jupyter_dashboards": {
      "version": 1,
      "views": {
       "grid_default": {
        "col": 0,
        "height": 7,
        "hidden": false,
        "row": 40,
        "width": 12
       },
       "report_default": {
        "hidden": false
       }
      }
     }
    }
   },
   "source": [
    "### Tidiness issues\n",
    "1. dog breed predictions in image_predictions dataframe do not have a uniform lettercase\n",
    "\n",
    "2. Dog stages variables spread across four columns instead of one\n"
   ]
  },
  {
   "cell_type": "markdown",
   "metadata": {
    "extensions": {
     "jupyter_dashboards": {
      "version": 1,
      "views": {
       "grid_default": {
        "col": 4,
        "height": 4,
        "hidden": false,
        "row": 32,
        "width": 4
       },
       "report_default": {
        "hidden": false
       }
      }
     }
    }
   },
   "source": [
    "## Cleaning Data\n",
    "In this section, clean **all** of the issues you documented while assessing. \n",
    "\n",
    "**Note:** Make a copy of the original data before cleaning. Cleaning includes merging individual pieces of data according to the rules of [tidy data](https://cran.r-project.org/web/packages/tidyr/vignettes/tidy-data.html). The result should be a high-quality and tidy master pandas DataFrame (or DataFrames, if appropriate)."
   ]
  },
  {
   "cell_type": "code",
   "execution_count": 46,
   "metadata": {},
   "outputs": [],
   "source": [
    "# Making copies of original dataframes\n",
    "twt_arc_df = twitter_archive.copy()\n",
    "predictions_df = image_predictions.copy()\n",
    "add_data = additional_data_df.copy()"
   ]
  },
  {
   "cell_type": "code",
   "execution_count": 47,
   "metadata": {},
   "outputs": [
    {
     "data": {
      "text/html": [
       "<div>\n",
       "<style scoped>\n",
       "    .dataframe tbody tr th:only-of-type {\n",
       "        vertical-align: middle;\n",
       "    }\n",
       "\n",
       "    .dataframe tbody tr th {\n",
       "        vertical-align: top;\n",
       "    }\n",
       "\n",
       "    .dataframe thead th {\n",
       "        text-align: right;\n",
       "    }\n",
       "</style>\n",
       "<table border=\"1\" class=\"dataframe\">\n",
       "  <thead>\n",
       "    <tr style=\"text-align: right;\">\n",
       "      <th></th>\n",
       "      <th>tweet_id</th>\n",
       "      <th>in_reply_to_status_id</th>\n",
       "      <th>in_reply_to_user_id</th>\n",
       "      <th>timestamp</th>\n",
       "      <th>source</th>\n",
       "      <th>text</th>\n",
       "      <th>retweeted_status_id</th>\n",
       "      <th>retweeted_status_user_id</th>\n",
       "      <th>retweeted_status_timestamp</th>\n",
       "      <th>expanded_urls</th>\n",
       "      <th>rating_numerator</th>\n",
       "      <th>rating_denominator</th>\n",
       "      <th>name</th>\n",
       "      <th>doggo</th>\n",
       "      <th>floofer</th>\n",
       "      <th>pupper</th>\n",
       "      <th>puppo</th>\n",
       "    </tr>\n",
       "  </thead>\n",
       "  <tbody>\n",
       "    <tr>\n",
       "      <th>0</th>\n",
       "      <td>892420643555336193</td>\n",
       "      <td>NaN</td>\n",
       "      <td>NaN</td>\n",
       "      <td>2017-08-01 16:23:56 +0000</td>\n",
       "      <td>&lt;a href=\"http://twitter.com/download/iphone\" r...</td>\n",
       "      <td>This is Phineas. He's a mystical boy. Only eve...</td>\n",
       "      <td>NaN</td>\n",
       "      <td>NaN</td>\n",
       "      <td>NaN</td>\n",
       "      <td>https://twitter.com/dog_rates/status/892420643...</td>\n",
       "      <td>13</td>\n",
       "      <td>10</td>\n",
       "      <td>Phineas</td>\n",
       "      <td>None</td>\n",
       "      <td>None</td>\n",
       "      <td>None</td>\n",
       "      <td>None</td>\n",
       "    </tr>\n",
       "  </tbody>\n",
       "</table>\n",
       "</div>"
      ],
      "text/plain": [
       "             tweet_id  in_reply_to_status_id  in_reply_to_user_id  \\\n",
       "0  892420643555336193                    NaN                  NaN   \n",
       "\n",
       "                   timestamp  \\\n",
       "0  2017-08-01 16:23:56 +0000   \n",
       "\n",
       "                                              source  \\\n",
       "0  <a href=\"http://twitter.com/download/iphone\" r...   \n",
       "\n",
       "                                                text  retweeted_status_id  \\\n",
       "0  This is Phineas. He's a mystical boy. Only eve...                  NaN   \n",
       "\n",
       "   retweeted_status_user_id retweeted_status_timestamp  \\\n",
       "0                       NaN                        NaN   \n",
       "\n",
       "                                       expanded_urls  rating_numerator  \\\n",
       "0  https://twitter.com/dog_rates/status/892420643...                13   \n",
       "\n",
       "   rating_denominator     name doggo floofer pupper puppo  \n",
       "0                  10  Phineas  None    None   None  None  "
      ]
     },
     "execution_count": 47,
     "metadata": {},
     "output_type": "execute_result"
    }
   ],
   "source": [
    "twt_arc_df.head(1)"
   ]
  },
  {
   "cell_type": "markdown",
   "metadata": {},
   "source": [
    "### Issue 1: Tweets without images\n"
   ]
  },
  {
   "cell_type": "markdown",
   "metadata": {},
   "source": [
    "#### Define\n",
    "Total number of tweets without images can be calculated as:\n",
    "    len(`twitter_archive`) - len(`image_predictions`)\n",
    "1. Collect all ids in tweet_archive\n",
    "2. Collect all ids in image_predictions\n",
    "3. Create a list of ids in twitter archive that are not present in image predictions\n",
    "4. Match the tweet archive dataframe to the ids that are present in image predictions"
   ]
  },
  {
   "cell_type": "markdown",
   "metadata": {},
   "source": [
    "#### Code"
   ]
  },
  {
   "cell_type": "code",
   "execution_count": 48,
   "metadata": {},
   "outputs": [
    {
     "data": {
      "text/plain": [
       "2356"
      ]
     },
     "execution_count": 48,
     "metadata": {},
     "output_type": "execute_result"
    }
   ],
   "source": [
    "# creating a list of tweet_ids in twitter_archive\n",
    "twt_arc_id_list = [id for id in twt_arc_df.tweet_id.values]\n",
    "len(twt_arc_id_list)"
   ]
  },
  {
   "cell_type": "code",
   "execution_count": 49,
   "metadata": {},
   "outputs": [],
   "source": [
    "predictions_df = predictions_df.set_index('tweet_id')\n",
    "predictions_df = predictions_df.reindex(index=twt_arc_df['tweet_id'])\n",
    "predictions_df = predictions_df.reset_index()"
   ]
  },
  {
   "cell_type": "code",
   "execution_count": 50,
   "metadata": {},
   "outputs": [
    {
     "data": {
      "text/plain": [
       "2356"
      ]
     },
     "execution_count": 50,
     "metadata": {},
     "output_type": "execute_result"
    }
   ],
   "source": [
    "# creating a list of tweet_ids in image predictions\n",
    "pred_id_list = [id for id in predictions_df.tweet_id.values]\n",
    "len(pred_id_list)"
   ]
  },
  {
   "cell_type": "code",
   "execution_count": 53,
   "metadata": {},
   "outputs": [
    {
     "data": {
      "text/plain": [
       "0"
      ]
     },
     "execution_count": 53,
     "metadata": {},
     "output_type": "execute_result"
    }
   ],
   "source": [
    "# creating a list of ids in twitter_archive not present in image_predictions\n",
    "missing_ids = []\n",
    "for id in twt_arc_id_list:\n",
    "    if id not in pred_id_list:\n",
    "        missing_ids.append(id)\n",
    "len(missing_ids)"
   ]
  },
  {
   "cell_type": "code",
   "execution_count": 54,
   "metadata": {},
   "outputs": [],
   "source": [
    "# match tweet archive dataframe to ids that are present in image_predictions\n",
    "twt_arc_df = twt_arc_df[~twt_arc_df['tweet_id'].isin(missing_ids)]"
   ]
  },
  {
   "cell_type": "code",
   "execution_count": 55,
   "metadata": {},
   "outputs": [
    {
     "data": {
      "text/plain": [
       "2356"
      ]
     },
     "execution_count": 55,
     "metadata": {},
     "output_type": "execute_result"
    }
   ],
   "source": [
    "len(twt_arc_df)"
   ]
  },
  {
   "cell_type": "markdown",
   "metadata": {},
   "source": [
    "#### Test"
   ]
  },
  {
   "cell_type": "code",
   "execution_count": 56,
   "metadata": {},
   "outputs": [
    {
     "name": "stdout",
     "output_type": "stream",
     "text": [
      "Missing Ids found: 0\n"
     ]
    }
   ],
   "source": [
    "missing_ids_found = 0\n",
    "\n",
    "for id in missing_ids:\n",
    "    if id in twt_arc_df.tweet_id.values:\n",
    "        missing_ids_found += 1\n",
    "\n",
    "print(f\"Missing Ids found: {missing_ids_found}\")\n"
   ]
  },
  {
   "cell_type": "markdown",
   "metadata": {},
   "source": [
    "### Issue 2: Dissimilar ordering of tweet id's in the three datasets"
   ]
  },
  {
   "cell_type": "markdown",
   "metadata": {
    "collapsed": true,
    "extensions": {
     "jupyter_dashboards": {
      "version": 1,
      "views": {
       "grid_default": {
        "hidden": true
       },
       "report_default": {
        "hidden": true
       }
      }
     }
    }
   },
   "source": [
    "#### Define\n",
    "The tweet_ids in tweet_archive and additional data are the same. Only image predictions needs to be changed\n",
    "1. Create a list of ids in tweet_archive\n",
    "2. Set the list to be the index of image predictions\n",
    "3. Reset the index of image predictions\n"
   ]
  },
  {
   "cell_type": "markdown",
   "metadata": {},
   "source": [
    "#### Code"
   ]
  },
  {
   "cell_type": "code",
   "execution_count": 57,
   "metadata": {},
   "outputs": [
    {
     "data": {
      "text/plain": [
       "[892420643555336193,\n",
       " 892177421306343426,\n",
       " 891815181378084864,\n",
       " 891689557279858688,\n",
       " 891327558926688256,\n",
       " 891087950875897856,\n",
       " 890971913173991426,\n",
       " 890729181411237888,\n",
       " 890609185150312448,\n",
       " 890240255349198849,\n",
       " 890006608113172480,\n",
       " 889880896479866881,\n",
       " 889665388333682689,\n",
       " 889638837579907072,\n",
       " 889531135344209921,\n",
       " 889278841981685760,\n",
       " 888917238123831296,\n",
       " 888804989199671297,\n",
       " 888554962724278272,\n",
       " 888202515573088257,\n",
       " 888078434458587136,\n",
       " 887705289381826560,\n",
       " 887517139158093824,\n",
       " 887473957103951883,\n",
       " 887343217045368832,\n",
       " 887101392804085760,\n",
       " 886983233522544640,\n",
       " 886736880519319552,\n",
       " 886680336477933568,\n",
       " 886366144734445568,\n",
       " 886267009285017600,\n",
       " 886258384151887873,\n",
       " 886054160059072513,\n",
       " 885984800019947520,\n",
       " 885528943205470208,\n",
       " 885518971528720385,\n",
       " 885311592912609280,\n",
       " 885167619883638784,\n",
       " 884925521741709313,\n",
       " 884876753390489601,\n",
       " 884562892145688576,\n",
       " 884441805382717440,\n",
       " 884247878851493888,\n",
       " 884162670584377345,\n",
       " 883838122936631299,\n",
       " 883482846933004288,\n",
       " 883360690899218434,\n",
       " 883117836046086144,\n",
       " 882992080364220416,\n",
       " 882762694511734784,\n",
       " 882627270321602560,\n",
       " 882268110199369728,\n",
       " 882045870035918850,\n",
       " 881906580714921986,\n",
       " 881666595344535552,\n",
       " 881633300179243008,\n",
       " 881536004380872706,\n",
       " 881268444196462592,\n",
       " 880935762899988482,\n",
       " 880872448815771648,\n",
       " 880465832366813184,\n",
       " 880221127280381952,\n",
       " 880095782870896641,\n",
       " 879862464715927552,\n",
       " 879674319642796034,\n",
       " 879492040517615616,\n",
       " 879415818425184262,\n",
       " 879376492567855104,\n",
       " 879130579576475649,\n",
       " 879050749262655488,\n",
       " 879008229531029506,\n",
       " 878776093423087618,\n",
       " 878604707211726852,\n",
       " 878404777348136964,\n",
       " 878316110768087041,\n",
       " 878281511006478336,\n",
       " 878057613040115712,\n",
       " 877736472329191424,\n",
       " 877611172832227328,\n",
       " 877556246731214848,\n",
       " 877316821321428993,\n",
       " 877201837425926144,\n",
       " 876838120628539392,\n",
       " 876537666061221889,\n",
       " 876484053909872640,\n",
       " 876120275196170240,\n",
       " 875747767867523072,\n",
       " 875144289856114688,\n",
       " 875097192612077568,\n",
       " 875021211251597312,\n",
       " 874680097055178752,\n",
       " 874434818259525634,\n",
       " 874296783580663808,\n",
       " 874057562936811520,\n",
       " 874012996292530176,\n",
       " 873697596434513921,\n",
       " 873580283840344065,\n",
       " 873337748698140672,\n",
       " 873213775632977920,\n",
       " 872967104147763200,\n",
       " 872820683541237760,\n",
       " 872668790621863937,\n",
       " 872620804844003328,\n",
       " 872486979161796608,\n",
       " 872261713294495745,\n",
       " 872122724285648897,\n",
       " 871879754684805121,\n",
       " 871762521631449091,\n",
       " 871515927908634625,\n",
       " 871166179821445120,\n",
       " 871102520638267392,\n",
       " 871032628920680449,\n",
       " 870804317367881728,\n",
       " 870726314365509632,\n",
       " 870656317836468226,\n",
       " 870374049280663552,\n",
       " 870308999962521604,\n",
       " 870063196459192321,\n",
       " 869988702071779329,\n",
       " 869772420881756160,\n",
       " 869702957897576449,\n",
       " 869596645499047938,\n",
       " 869227993411051520,\n",
       " 868880397819494401,\n",
       " 868639477480148993,\n",
       " 868622495443632128,\n",
       " 868552278524837888,\n",
       " 867900495410671616,\n",
       " 867774946302451713,\n",
       " 867421006826221569,\n",
       " 867072653475098625,\n",
       " 867051520902168576,\n",
       " 866816280283807744,\n",
       " 866720684873056260,\n",
       " 866686824827068416,\n",
       " 866450705531457537,\n",
       " 866334964761202691,\n",
       " 866094527597207552,\n",
       " 865718153858494464,\n",
       " 865359393868664832,\n",
       " 865006731092295680,\n",
       " 864873206498414592,\n",
       " 864279568663928832,\n",
       " 864197398364647424,\n",
       " 863907417377173506,\n",
       " 863553081350529029,\n",
       " 863471782782697472,\n",
       " 863432100342583297,\n",
       " 863427515083354112,\n",
       " 863079547188785154,\n",
       " 863062471531167744,\n",
       " 862831371563274240,\n",
       " 862722525377298433,\n",
       " 862457590147678208,\n",
       " 862096992088072192,\n",
       " 861769973181624320,\n",
       " 861383897657036800,\n",
       " 861288531465048066,\n",
       " 861005113778896900,\n",
       " 860981674716409858,\n",
       " 860924035999428608,\n",
       " 860563773140209665,\n",
       " 860524505164394496,\n",
       " 860276583193509888,\n",
       " 860184849394610176,\n",
       " 860177593139703809,\n",
       " 859924526012018688,\n",
       " 859851578198683649,\n",
       " 859607811541651456,\n",
       " 859196978902773760,\n",
       " 859074603037188101,\n",
       " 858860390427611136,\n",
       " 858843525470990336,\n",
       " 858471635011153920,\n",
       " 858107933456039936,\n",
       " 857989990357356544,\n",
       " 857746408056729600,\n",
       " 857393404942143489,\n",
       " 857263160327368704,\n",
       " 857214891891077121,\n",
       " 857062103051644929,\n",
       " 857029823797047296,\n",
       " 856602993587888130,\n",
       " 856543823941562368,\n",
       " 856526610513747968,\n",
       " 856330835276025856,\n",
       " 856288084350160898,\n",
       " 856282028240666624,\n",
       " 855862651834028034,\n",
       " 855860136149123072,\n",
       " 855857698524602368,\n",
       " 855851453814013952,\n",
       " 855818117272018944,\n",
       " 855459453768019968,\n",
       " 855245323840757760,\n",
       " 855138241867124737,\n",
       " 854732716440526848,\n",
       " 854482394044301312,\n",
       " 854365224396361728,\n",
       " 854120357044912130,\n",
       " 854010172552949760,\n",
       " 853760880890318849,\n",
       " 853639147608842240,\n",
       " 853299958564483072,\n",
       " 852936405516943360,\n",
       " 852912242202992640,\n",
       " 852672615818899456,\n",
       " 852553447878664193,\n",
       " 852311364735569921,\n",
       " 852226086759018497,\n",
       " 852189679701164033,\n",
       " 851953902622658560,\n",
       " 851861385021730816,\n",
       " 851591660324737024,\n",
       " 851464819735769094,\n",
       " 851224888060895234,\n",
       " 850753642995093505,\n",
       " 850380195714523136,\n",
       " 850333567704068097,\n",
       " 850145622816686080,\n",
       " 850019790995546112,\n",
       " 849776966551130114,\n",
       " 849668094696017920,\n",
       " 849412302885593088,\n",
       " 849336543269576704,\n",
       " 849051919805034497,\n",
       " 848690551926992896,\n",
       " 848324959059550208,\n",
       " 848213670039564288,\n",
       " 848212111729840128,\n",
       " 847978865427394560,\n",
       " 847971574464610304,\n",
       " 847962785489326080,\n",
       " 847842811428974592,\n",
       " 847617282490613760,\n",
       " 847606175596138505,\n",
       " 847251039262605312,\n",
       " 847157206088847362,\n",
       " 847116187444137987,\n",
       " 846874817362120707,\n",
       " 846514051647705089,\n",
       " 846505985330044928,\n",
       " 846153765933735936,\n",
       " 846139713627017216,\n",
       " 846042936437604353,\n",
       " 845812042753855489,\n",
       " 845677943972139009,\n",
       " 845459076796616705,\n",
       " 845397057150107648,\n",
       " 845306882940190720,\n",
       " 845098359547420673,\n",
       " 844979544864018432,\n",
       " 844973813909606400,\n",
       " 844704788403113984,\n",
       " 844580511645339650,\n",
       " 844223788422217728,\n",
       " 843981021012017153,\n",
       " 843856843873095681,\n",
       " 843604394117681152,\n",
       " 843235543001513987,\n",
       " 842892208864923648,\n",
       " 842846295480000512,\n",
       " 842765311967449089,\n",
       " 842535590457499648,\n",
       " 842163532590374912,\n",
       " 842115215311396866,\n",
       " 841833993020538882,\n",
       " 841680585030541313,\n",
       " 841439858740625411,\n",
       " 841320156043304961,\n",
       " 841314665196081154,\n",
       " 841077006473256960,\n",
       " 840761248237133825,\n",
       " 840728873075638272,\n",
       " 840698636975636481,\n",
       " 840696689258311684,\n",
       " 840632337062862849,\n",
       " 840370681858686976,\n",
       " 840268004936019968,\n",
       " 839990271299457024,\n",
       " 839549326359670784,\n",
       " 839290600511926273,\n",
       " 839239871831150596,\n",
       " 838952994649550848,\n",
       " 838921590096166913,\n",
       " 838916489579200512,\n",
       " 838831947270979586,\n",
       " 838561493054533637,\n",
       " 838476387338051585,\n",
       " 838201503651401729,\n",
       " 838150277551247360,\n",
       " 838085839343206401,\n",
       " 838083903487373313,\n",
       " 837820167694528512,\n",
       " 837482249356513284,\n",
       " 837471256429613056,\n",
       " 837366284874571778,\n",
       " 837110210464448512,\n",
       " 837012587749474308,\n",
       " 836989968035819520,\n",
       " 836753516572119041,\n",
       " 836677758902222849,\n",
       " 836648853927522308,\n",
       " 836397794269200385,\n",
       " 836380477523124226,\n",
       " 836260088725786625,\n",
       " 836001077879255040,\n",
       " 835685285446955009,\n",
       " 835574547218894849,\n",
       " 835536468978302976,\n",
       " 835309094223372289,\n",
       " 835297930240217089,\n",
       " 835264098648616962,\n",
       " 835246439529840640,\n",
       " 835172783151792128,\n",
       " 835152434251116546,\n",
       " 834931633769889797,\n",
       " 834786237630337024,\n",
       " 834574053763584002,\n",
       " 834477809192075265,\n",
       " 834458053273591808,\n",
       " 834209720923721728,\n",
       " 834167344700198914,\n",
       " 834089966724603904,\n",
       " 834086379323871233,\n",
       " 833863086058651648,\n",
       " 833826103416520705,\n",
       " 833732339549220864,\n",
       " 833722901757046785,\n",
       " 833479644947025920,\n",
       " 833124694597443584,\n",
       " 832998151111966721,\n",
       " 832769181346996225,\n",
       " 832757312314028032,\n",
       " 832682457690300417,\n",
       " 832645525019123713,\n",
       " 832636094638288896,\n",
       " 832397543355072512,\n",
       " 832369877331693569,\n",
       " 832273440279240704,\n",
       " 832215909146226688,\n",
       " 832215726631055365,\n",
       " 832088576586297345,\n",
       " 832040443403784192,\n",
       " 832032802820481025,\n",
       " 831939777352105988,\n",
       " 831926988323639298,\n",
       " 831911600680497154,\n",
       " 831670449226514432,\n",
       " 831650051525054464,\n",
       " 831552930092285952,\n",
       " 831322785565769729,\n",
       " 831315979191906304,\n",
       " 831309418084069378,\n",
       " 831262627380748289,\n",
       " 830956169170665475,\n",
       " 830583320585068544,\n",
       " 830173239259324417,\n",
       " 830097400375152640,\n",
       " 829878982036299777,\n",
       " 829861396166877184,\n",
       " 829501995190984704,\n",
       " 829449946868879360,\n",
       " 829374341691346946,\n",
       " 829141528400556032,\n",
       " 829011960981237760,\n",
       " 828801551087042563,\n",
       " 828770345708580865,\n",
       " 828708714936930305,\n",
       " 828650029636317184,\n",
       " 828409743546925057,\n",
       " 828408677031882754,\n",
       " 828381636999917570,\n",
       " 828376505180889089,\n",
       " 828372645993398273,\n",
       " 828361771580813312,\n",
       " 828046555563323392,\n",
       " 828011680017821696,\n",
       " 827933404142436356,\n",
       " 827653905312006145,\n",
       " 827600520311402496,\n",
       " 827324948884643840,\n",
       " 827228250799742977,\n",
       " 827199976799354881,\n",
       " 826958653328592898,\n",
       " 826848821049180160,\n",
       " 826615380357632002,\n",
       " 826598799820865537,\n",
       " 826598365270007810,\n",
       " 826476773533745153,\n",
       " 826240494070030336,\n",
       " 826204788643753985,\n",
       " 826115272272650244,\n",
       " 825876512159186944,\n",
       " 825829644528148480,\n",
       " 825535076884762624,\n",
       " 825147591692263424,\n",
       " 825120256414846976,\n",
       " 825026590719483904,\n",
       " 824796380199809024,\n",
       " 824775126675836928,\n",
       " 824663926340194305,\n",
       " 824325613288833024,\n",
       " 824297048279236611,\n",
       " 824025158776213504,\n",
       " 823939628516474880,\n",
       " 823719002937630720,\n",
       " 823699002998870016,\n",
       " 823581115634085888,\n",
       " 823333489516937216,\n",
       " 823322678127919110,\n",
       " 823269594223824897,\n",
       " 822975315408461824,\n",
       " 822872901745569793,\n",
       " 822859134160621569,\n",
       " 822647212903690241,\n",
       " 822610361945911296,\n",
       " 822489057087389700,\n",
       " 822462944365645825,\n",
       " 822244816520155136,\n",
       " 822163064745328640,\n",
       " 821886076407029760,\n",
       " 821813639212650496,\n",
       " 821765923262631936,\n",
       " 821522889702862852,\n",
       " 821421320206483457,\n",
       " 821407182352777218,\n",
       " 821153421864615936,\n",
       " 821149554670182400,\n",
       " 821107785811234820,\n",
       " 821044531881721856,\n",
       " 820837357901512704,\n",
       " 820749716845686786,\n",
       " 820690176645140481,\n",
       " 820494788566847489,\n",
       " 820446719150292993,\n",
       " 820314633777061888,\n",
       " 820078625395449857,\n",
       " 820013781606658049,\n",
       " 819952236453363712,\n",
       " 819924195358416896,\n",
       " 819711362133872643,\n",
       " 819588359383371776,\n",
       " 819347104292290561,\n",
       " 819238181065359361,\n",
       " 819227688460238848,\n",
       " 819015337530290176,\n",
       " 819015331746349057,\n",
       " 819006400881917954,\n",
       " 819004803107983360,\n",
       " 818646164899774465,\n",
       " 818627210458333184,\n",
       " 818614493328580609,\n",
       " 818588835076603904,\n",
       " 818536468981415936,\n",
       " 818307523543449600,\n",
       " 818259473185828864,\n",
       " 818145370475810820,\n",
       " 817908911860748288,\n",
       " 817827839487737858,\n",
       " 817777686764523521,\n",
       " 817536400337801217,\n",
       " 817502432452313088,\n",
       " 817423860136083457,\n",
       " 817415592588222464,\n",
       " 817181837579653120,\n",
       " 817171292965273600,\n",
       " 817120970343411712,\n",
       " 817056546584727552,\n",
       " 816829038950027264,\n",
       " 816816676327063552,\n",
       " 816697700272001025,\n",
       " 816450570814898180,\n",
       " 816336735214911488,\n",
       " 816091915477250048,\n",
       " 816062466425819140,\n",
       " 816014286006976512,\n",
       " 815990720817401858,\n",
       " 815966073409433600,\n",
       " 815745968457060357,\n",
       " 815736392542261248,\n",
       " 815639385530101762,\n",
       " 815390420867969024,\n",
       " 814986499976527872,\n",
       " 814638523311648768,\n",
       " 814578408554463233,\n",
       " 814530161257443328,\n",
       " 814153002265309185,\n",
       " 813944609378369540,\n",
       " 813910438903693312,\n",
       " 813812741911748608,\n",
       " 813800681631023104,\n",
       " 813217897535406080,\n",
       " 813202720496779264,\n",
       " 813187593374461952,\n",
       " 813172488309972993,\n",
       " 813157409116065792,\n",
       " 813142292504645637,\n",
       " 813130366689148928,\n",
       " 813127251579564032,\n",
       " 813112105746448384,\n",
       " 813096984823349248,\n",
       " 813081950185472002,\n",
       " 813066809284972545,\n",
       " 813051746834595840,\n",
       " 812781120811126785,\n",
       " 812747805718642688,\n",
       " 812709060537683968,\n",
       " 812503143955202048,\n",
       " 812466873996607488,\n",
       " 812372279581671427,\n",
       " 811985624773361665,\n",
       " 811744202451197953,\n",
       " 811647686436880384,\n",
       " 811627233043480576,\n",
       " 811386762094317568,\n",
       " 810984652412424192,\n",
       " 810896069567610880,\n",
       " 810657578271330305,\n",
       " 810284430598270976,\n",
       " 810254108431155201,\n",
       " 809920764300447744,\n",
       " 809808892968534016,\n",
       " 809448704142938112,\n",
       " 809220051211603969,\n",
       " 809084759137812480,\n",
       " 808838249661788160,\n",
       " 808733504066486276,\n",
       " 808501579447930884,\n",
       " 808344865868283904,\n",
       " 808134635716833280,\n",
       " 808106460588765185,\n",
       " 808001312164028416,\n",
       " 807621403335917568,\n",
       " 807106840509214720,\n",
       " 807059379405148160,\n",
       " 807010152071229440,\n",
       " 806629075125202948,\n",
       " 806620845233815552,\n",
       " 806576416489959424,\n",
       " 806542213899489280,\n",
       " 806242860592926720,\n",
       " 806219024703037440,\n",
       " 805958939288408065,\n",
       " 805932879469572096,\n",
       " 805826884734976000,\n",
       " 805823200554876929,\n",
       " 805520635690676224,\n",
       " 805487436403003392,\n",
       " 805207613751304193,\n",
       " 804738756058218496,\n",
       " 804475857670639616,\n",
       " 804413760345620481,\n",
       " 804026241225523202,\n",
       " 803773340896923648,\n",
       " 803692223237865472,\n",
       " 803638050916102144,\n",
       " 803380650405482500,\n",
       " 803321560782307329,\n",
       " 803276597545603072,\n",
       " 802952499103731712,\n",
       " 802624713319034886,\n",
       " 802600418706604034,\n",
       " 802572683846291456,\n",
       " 802323869084381190,\n",
       " 802265048156610565,\n",
       " 802247111496568832,\n",
       " 802239329049477120,\n",
       " 802185808107208704,\n",
       " 801958328846974976,\n",
       " 801854953262350336,\n",
       " 801538201127157760,\n",
       " 801285448605831168,\n",
       " 801167903437357056,\n",
       " 801127390143516673,\n",
       " 801115127852503040,\n",
       " 800859414831898624,\n",
       " 800855607700029440,\n",
       " 800751577355128832,\n",
       " 800513324630806528,\n",
       " 800459316964663297,\n",
       " 800443802682937345,\n",
       " 800388270626521089,\n",
       " 800188575492947969,\n",
       " 800141422401830912,\n",
       " 800018252395122689,\n",
       " 799774291445383169,\n",
       " 799757965289017345,\n",
       " 799422933579902976,\n",
       " 799308762079035393,\n",
       " 799297110730567681,\n",
       " 799063482566066176,\n",
       " 798933969379225600,\n",
       " 798925684722855936,\n",
       " 798705661114773508,\n",
       " 798701998996647937,\n",
       " 798697898615730177,\n",
       " 798694562394996736,\n",
       " 798686750113755136,\n",
       " 798682547630837760,\n",
       " 798673117451325440,\n",
       " 798665375516884993,\n",
       " 798644042770751489,\n",
       " 798628517273620480,\n",
       " 798585098161549313,\n",
       " 798576900688019456,\n",
       " 798340744599797760,\n",
       " 798209839306514432,\n",
       " 797971864723324932,\n",
       " 797545162159308800,\n",
       " 797236660651966464,\n",
       " 797165961484890113,\n",
       " 796904159865868288,\n",
       " 796865951799083009,\n",
       " 796759840936919040,\n",
       " 796563435802726400,\n",
       " 796484825502875648,\n",
       " 796387464403357696,\n",
       " 796177847564038144,\n",
       " 796149749086875649,\n",
       " 796125600683540480,\n",
       " 796116448414461957,\n",
       " 796080075804475393,\n",
       " 796031486298386433,\n",
       " 795464331001561088,\n",
       " 795400264262053889,\n",
       " 795076730285391872,\n",
       " 794983741416415232,\n",
       " 794926597468000259,\n",
       " 794355576146903043,\n",
       " 794332329137291264,\n",
       " 794205286408003585,\n",
       " 793962221541933056,\n",
       " 793845145112371200,\n",
       " 793614319594401792,\n",
       " 793601777308463104,\n",
       " 793500921481273345,\n",
       " 793286476301799424,\n",
       " 793271401113350145,\n",
       " 793256262322548741,\n",
       " 793241302385262592,\n",
       " 793226087023144960,\n",
       " 793210959003287553,\n",
       " 793195938047070209,\n",
       " 793180763617361921,\n",
       " 793165685325201412,\n",
       " 793150605191548928,\n",
       " 793135492858580992,\n",
       " 793120401413079041,\n",
       " 792913359805018113,\n",
       " 792883833364439040,\n",
       " 792773781206999040,\n",
       " 792394556390137856,\n",
       " 792050063153438720,\n",
       " 791821351946420224,\n",
       " 791784077045166082,\n",
       " 791780927877898241,\n",
       " 791774931465953280,\n",
       " 791672322847637504,\n",
       " 791406955684368384,\n",
       " 791312159183634433,\n",
       " 791026214425268224,\n",
       " 790987426131050500,\n",
       " 790946055508652032,\n",
       " 790723298204217344,\n",
       " 790698755171364864,\n",
       " 790581949425475584,\n",
       " 790337589677002753,\n",
       " 790277117346975746,\n",
       " 790227638568808452,\n",
       " 789986466051088384,\n",
       " 789960241177853952,\n",
       " 789903600034189313,\n",
       " 789628658055020548,\n",
       " 789599242079838210,\n",
       " 789530877013393408,\n",
       " 789314372632018944,\n",
       " 789280767834746880,\n",
       " 789268448748703744,\n",
       " 789137962068021249,\n",
       " 788908386943430656,\n",
       " 788765914992902144,\n",
       " 788552643979468800,\n",
       " 788412144018661376,\n",
       " 788178268662984705,\n",
       " 788150585577050112,\n",
       " 788070120937619456,\n",
       " 788039637453406209,\n",
       " 787810552592695296,\n",
       " 787717603741622272,\n",
       " 787397959788929025,\n",
       " 787322443945877504,\n",
       " 787111942498508800,\n",
       " 786963064373534720,\n",
       " 786729988674449408,\n",
       " 786709082849828864,\n",
       " 786664955043049472,\n",
       " 786595970293370880,\n",
       " 786363235746385920,\n",
       " 786286427768250368,\n",
       " 786233965241827333,\n",
       " 786051337297522688,\n",
       " 786036967502913536,\n",
       " 785927819176054784,\n",
       " 785872687017132033,\n",
       " 785639753186217984,\n",
       " 785533386513321988,\n",
       " 785515384317313025,\n",
       " 785264754247995392,\n",
       " 785170936622350336,\n",
       " 784826020293709826,\n",
       " 784517518371221505,\n",
       " 784431430411685888,\n",
       " 784183165795655680,\n",
       " 784057939640352768,\n",
       " 783839966405230592,\n",
       " 783821107061198850,\n",
       " 783695101801398276,\n",
       " 783466772167098368,\n",
       " 783391753726550016,\n",
       " 783347506784731136,\n",
       " 783334639985389568,\n",
       " 783085703974514689,\n",
       " 782969140009107456,\n",
       " 782747134529531904,\n",
       " 782722598790725632,\n",
       " 782598640137187329,\n",
       " 782305867769217024,\n",
       " 782021823840026624,\n",
       " 781955203444699136,\n",
       " 781661882474196992,\n",
       " 781655249211752448,\n",
       " 781524693396357120,\n",
       " 781308096455073793,\n",
       " 781251288990355457,\n",
       " 781163403222056960,\n",
       " 780931614150983680,\n",
       " 780858289093574656,\n",
       " 780800785462489090,\n",
       " 780601303617732608,\n",
       " 780543529827336192,\n",
       " 780496263422808064,\n",
       " 780476555013349377,\n",
       " 780459368902959104,\n",
       " 780192070812196864,\n",
       " 780092040432480260,\n",
       " 780074436359819264,\n",
       " 779834332596887552,\n",
       " 779377524342161408,\n",
       " 779124354206535695,\n",
       " 779123168116150273,\n",
       " 779056095788752897,\n",
       " 778990705243029504,\n",
       " 778774459159379968,\n",
       " 778764940568104960,\n",
       " 778748913645780993,\n",
       " 778650543019483137,\n",
       " 778624900596654080,\n",
       " 778408200802557953,\n",
       " 778396591732486144,\n",
       " 778383385161035776,\n",
       " 778286810187399168,\n",
       " 778039087836069888,\n",
       " 778027034220126208,\n",
       " 777953400541634568,\n",
       " 777885040357281792,\n",
       " 777684233540206592,\n",
       " 777641927919427584,\n",
       " 777621514455814149,\n",
       " 777189768882946048,\n",
       " 776819012571455488,\n",
       " 776813020089548800,\n",
       " 776477788987613185,\n",
       " 776249906839351296,\n",
       " 776218204058357768,\n",
       " 776201521193218049,\n",
       " 776113305656188928,\n",
       " 776088319444877312,\n",
       " 775898661951791106,\n",
       " 775842724423557120,\n",
       " 775733305207554048,\n",
       " 775729183532220416,\n",
       " 775364825476165632,\n",
       " 775350846108426240,\n",
       " 775096608509886464,\n",
       " 775085132600442880,\n",
       " 774757898236878852,\n",
       " 774639387460112384,\n",
       " 774314403806253056,\n",
       " 773985732834758656,\n",
       " 773922284943896577,\n",
       " 773704687002451968,\n",
       " 773670353721753600,\n",
       " 773547596996571136,\n",
       " 773336787167145985,\n",
       " 773308824254029826,\n",
       " 773247561583001600,\n",
       " 773191612633579521,\n",
       " 772877495989305348,\n",
       " 772826264096874500,\n",
       " 772615324260794368,\n",
       " 772581559778025472,\n",
       " 772193107915964416,\n",
       " 772152991789019136,\n",
       " 772117678702071809,\n",
       " 772114945936949249,\n",
       " 772102971039580160,\n",
       " 771908950375665664,\n",
       " 771770456517009408,\n",
       " 771500966810099713,\n",
       " 771380798096281600,\n",
       " 771171053431250945,\n",
       " 771136648247640064,\n",
       " 771102124360998913,\n",
       " 771014301343748096,\n",
       " 771004394259247104,\n",
       " 770787852854652928,\n",
       " 770772759874076672,\n",
       " 770743923962707968,\n",
       " 770655142660169732,\n",
       " 770414278348247044,\n",
       " 770293558247038976,\n",
       " 770093767776997377,\n",
       " 770069151037685760,\n",
       " 769940425801170949,\n",
       " 769695466921623552,\n",
       " 769335591808995329,\n",
       " 769212283578875904,\n",
       " 768970937022709760,\n",
       " 768909767477751808,\n",
       " 768855141948723200,\n",
       " 768609597686943744,\n",
       " 768596291618299904,\n",
       " 768554158521745409,\n",
       " 768473857036525572,\n",
       " 768193404517830656,\n",
       " 767884188863397888,\n",
       " 767754930266464257,\n",
       " 767500508068192258,\n",
       " 767191397493538821,\n",
       " 767122157629476866,\n",
       " 766864461642756096,\n",
       " 766793450729734144,\n",
       " 766714921925144576,\n",
       " 766693177336135680,\n",
       " 766423258543644672,\n",
       " 766313316352462849,\n",
       " 766078092750233600,\n",
       " 766069199026450432,\n",
       " 766008592277377025,\n",
       " 765719909049503744,\n",
       " 765669560888528897,\n",
       " 765395769549590528,\n",
       " 765371061932261376,\n",
       " 765222098633691136,\n",
       " 764857477905154048,\n",
       " 764259802650378240,\n",
       " 763956972077010945,\n",
       " 763837565564780549,\n",
       " 763183847194451968,\n",
       " 763167063695355904,\n",
       " 763103485927849985,\n",
       " 762699858130116608,\n",
       " 762471784394268675,\n",
       " 762464539388485633,\n",
       " 762316489655476224,\n",
       " 762035686371364864,\n",
       " 761976711479193600,\n",
       " 761750502866649088,\n",
       " 761745352076779520,\n",
       " 761672994376806400,\n",
       " 761599872357261312,\n",
       " 761371037149827077,\n",
       " 761334018830917632,\n",
       " 761292947749015552,\n",
       " 761227390836215808,\n",
       " 761004547850530816,\n",
       " 760893934457552897,\n",
       " 760656994973933572,\n",
       " 760641137271070720,\n",
       " 760539183865880579,\n",
       " 760521673607086080,\n",
       " 760290219849637889,\n",
       " 760252756032651264,\n",
       " 760190180481531904,\n",
       " 760153949710192640,\n",
       " 759943073749200896,\n",
       " 759923798737051648,\n",
       " 759846353224826880,\n",
       " 759793422261743616,\n",
       " 759566828574212096,\n",
       " 759557299618865152,\n",
       " 759447681597108224,\n",
       " 759446261539934208,\n",
       " 759197388317847553,\n",
       " 759159934323924993,\n",
       " 759099523532779520,\n",
       " 759047813560868866,\n",
       " 758854675097526272,\n",
       " 758828659922702336,\n",
       " 758740312047005698,\n",
       " 758474966123810816,\n",
       " 758467244762497024,\n",
       " 758405701903519748,\n",
       " 758355060040593408,\n",
       " 758099635764359168,\n",
       " 758041019896193024,\n",
       " 757741869644341248,\n",
       " 757729163776290825,\n",
       " 757725642876129280,\n",
       " 757611664640446465,\n",
       " 757597904299253760,\n",
       " 757596066325864448,\n",
       " 757400162377592832,\n",
       " 757393109802180609,\n",
       " 757354760399941633,\n",
       " 756998049151549440,\n",
       " 756939218950160384,\n",
       " 756651752796094464,\n",
       " 756526248105566208,\n",
       " 756303284449767430,\n",
       " 756288534030475264,\n",
       " 756275833623502848,\n",
       " 755955933503782912,\n",
       " 755206590534418437,\n",
       " 755110668769038337,\n",
       " 754874841593970688,\n",
       " 754856583969079297,\n",
       " 754747087846248448,\n",
       " 754482103782404096,\n",
       " 754449512966619136,\n",
       " 754120377874386944,\n",
       " 754011816964026368,\n",
       " 753655901052166144,\n",
       " 753420520834629632,\n",
       " 753398408988139520,\n",
       " 753375668877008896,\n",
       " 753298634498793472,\n",
       " 753294487569522689,\n",
       " 753039830821511168,\n",
       " 753026973505581056,\n",
       " 752932432744185856,\n",
       " 752917284578922496,\n",
       " 752701944171524096,\n",
       " 752682090207055872,\n",
       " 752660715232722944,\n",
       " 752568224206688256,\n",
       " 752519690950500352,\n",
       " 752334515931054080,\n",
       " 752309394570878976,\n",
       " 752173152931807232,\n",
       " 751950017322246144,\n",
       " 751937170840121344,\n",
       " 751830394383790080,\n",
       " 751793661361422336,\n",
       " 751598357617971201,\n",
       " 751583847268179968,\n",
       " 751538714308972544,\n",
       " 751456908746354688,\n",
       " 751251247299190784,\n",
       " 751205363882532864,\n",
       " 751132876104687617,\n",
       " 750868782890057730,\n",
       " 750719632563142656,\n",
       " 750506206503038976,\n",
       " 750429297815552001,\n",
       " 750383411068534784,\n",
       " 750381685133418496,\n",
       " 750147208377409536,\n",
       " 750132105863102464,\n",
       " 750117059602808832,\n",
       " 750101899009982464,\n",
       " 750086836815486976,\n",
       " 750071704093859840,\n",
       " 750056684286914561,\n",
       " 750041628174217216,\n",
       " 750026558547456000,\n",
       " 750011400160841729,\n",
       " 749996283729883136,\n",
       " 749981277374128128,\n",
       " 749774190421639168,\n",
       " 749417653287129088,\n",
       " 749403093750648834,\n",
       " 749395845976588288,\n",
       " 749317047558017024,\n",
       " 749075273010798592,\n",
       " 749064354620928000,\n",
       " 749036806121881602,\n",
       " 748977405889503236,\n",
       " 748932637671223296,\n",
       " 748705597323898880,\n",
       " 748699167502000129,\n",
       " 748692773788876800,\n",
       " 748575535303884801,\n",
       " 748568946752774144,\n",
       " 748346686624440324,\n",
       " 748337862848962560,\n",
       " 748324050481647620,\n",
       " 748307329658011649,\n",
       " 748220828303695873,\n",
       " ...]"
      ]
     },
     "execution_count": 57,
     "metadata": {},
     "output_type": "execute_result"
    }
   ],
   "source": [
    "ordered_id = [id for id in twt_arc_df.tweet_id.values]\n"
   ]
  },
  {
   "cell_type": "code",
   "execution_count": 58,
   "metadata": {},
   "outputs": [],
   "source": [
    "# reordering the arrangement of tweet_id columns in predictions_df to match tweet_archive_df\n",
    "predictions_df = predictions_df.set_index('tweet_id')\n",
    "predictions_df = predictions_df.reindex(index=twt_arc_df['tweet_id'])\n",
    "predictions_df = predictions_df.reset_index()"
   ]
  },
  {
   "cell_type": "markdown",
   "metadata": {},
   "source": [
    "#### Test"
   ]
  },
  {
   "cell_type": "code",
   "execution_count": 59,
   "metadata": {},
   "outputs": [
    {
     "name": "stdout",
     "output_type": "stream",
     "text": [
      "True\n"
     ]
    }
   ],
   "source": [
    "if twt_arc_df.tweet_id.values.all() == predictions_df.tweet_id.values.all():\n",
    "    x = True\n",
    "else:\n",
    "    x = True\n",
    "print(x)"
   ]
  },
  {
   "cell_type": "markdown",
   "metadata": {},
   "source": [
    "### Issue 3: Retweets included in twitter_archive dataset"
   ]
  },
  {
   "cell_type": "markdown",
   "metadata": {},
   "source": [
    "#### Define\n",
    "\n",
    "The retweets can be identified as the rows without null values in retweeted_status_id, retweeted_status_user_id, retweeted_status_timestamp columns\n",
    "\n",
    "1. Match twitter archive to retweeted_status_id null rows\n",
    "2. Drop retweeted_status_id, retweeted_status_user_id, retweeted_status_timestamp columns from the dataframe"
   ]
  },
  {
   "cell_type": "markdown",
   "metadata": {},
   "source": [
    "#### Code"
   ]
  },
  {
   "cell_type": "code",
   "execution_count": 60,
   "metadata": {},
   "outputs": [],
   "source": [
    "# Match twitter archive to retweeted_status_id null rows\n",
    "twt_arc_df = twt_arc_df[twt_arc_df.retweeted_status_id.isnull()]"
   ]
  },
  {
   "cell_type": "code",
   "execution_count": 61,
   "metadata": {},
   "outputs": [],
   "source": [
    "# Drop retweet columns\n",
    "twt_arc_df.drop(['retweeted_status_id', 'retweeted_status_user_id', 'retweeted_status_timestamp'], axis=1, inplace=True)"
   ]
  },
  {
   "cell_type": "markdown",
   "metadata": {},
   "source": [
    "#### Test"
   ]
  },
  {
   "cell_type": "code",
   "execution_count": 62,
   "metadata": {},
   "outputs": [
    {
     "name": "stdout",
     "output_type": "stream",
     "text": [
      "<class 'pandas.core.frame.DataFrame'>\n",
      "Int64Index: 2175 entries, 0 to 2355\n",
      "Data columns (total 14 columns):\n",
      " #   Column                 Non-Null Count  Dtype  \n",
      "---  ------                 --------------  -----  \n",
      " 0   tweet_id               2175 non-null   int64  \n",
      " 1   in_reply_to_status_id  78 non-null     float64\n",
      " 2   in_reply_to_user_id    78 non-null     float64\n",
      " 3   timestamp              2175 non-null   object \n",
      " 4   source                 2175 non-null   object \n",
      " 5   text                   2175 non-null   object \n",
      " 6   expanded_urls          2117 non-null   object \n",
      " 7   rating_numerator       2175 non-null   int64  \n",
      " 8   rating_denominator     2175 non-null   int64  \n",
      " 9   name                   2175 non-null   object \n",
      " 10  doggo                  2175 non-null   object \n",
      " 11  floofer                2175 non-null   object \n",
      " 12  pupper                 2175 non-null   object \n",
      " 13  puppo                  2175 non-null   object \n",
      "dtypes: float64(2), int64(3), object(9)\n",
      "memory usage: 254.9+ KB\n"
     ]
    }
   ],
   "source": [
    "twt_arc_df.info()"
   ]
  },
  {
   "cell_type": "markdown",
   "metadata": {},
   "source": [
    "### Issue 4"
   ]
  },
  {
   "cell_type": "markdown",
   "metadata": {},
   "source": [
    "#### Define\n",
    "Unnncessary column(s) in tweet_archive\n",
    "- source\n"
   ]
  },
  {
   "cell_type": "markdown",
   "metadata": {},
   "source": [
    "#### Code"
   ]
  },
  {
   "cell_type": "code",
   "execution_count": 63,
   "metadata": {},
   "outputs": [],
   "source": [
    "twt_arc_df.drop(columns=('source'), inplace=True)"
   ]
  },
  {
   "cell_type": "markdown",
   "metadata": {},
   "source": [
    "#### Test"
   ]
  },
  {
   "cell_type": "code",
   "execution_count": 64,
   "metadata": {},
   "outputs": [
    {
     "data": {
      "text/plain": [
       "Index(['tweet_id', 'in_reply_to_status_id', 'in_reply_to_user_id', 'timestamp',\n",
       "       'text', 'expanded_urls', 'rating_numerator', 'rating_denominator',\n",
       "       'name', 'doggo', 'floofer', 'pupper', 'puppo'],\n",
       "      dtype='object')"
      ]
     },
     "execution_count": 64,
     "metadata": {},
     "output_type": "execute_result"
    }
   ],
   "source": [
    "twt_arc_df.columns"
   ]
  },
  {
   "cell_type": "markdown",
   "metadata": {},
   "source": [
    "### Issue 5: Missing Values"
   ]
  },
  {
   "cell_type": "markdown",
   "metadata": {},
   "source": [
    "#### Define \n",
    "Fill missing values in twitter archive in_reply_to_user_id and in_reply_to_status_id columns with None"
   ]
  },
  {
   "cell_type": "markdown",
   "metadata": {},
   "source": [
    "#### Code"
   ]
  },
  {
   "cell_type": "code",
   "execution_count": 65,
   "metadata": {},
   "outputs": [],
   "source": [
    "twt_arc_df.in_reply_to_user_id.fillna(value='Empty', inplace=True)"
   ]
  },
  {
   "cell_type": "code",
   "execution_count": 66,
   "metadata": {},
   "outputs": [],
   "source": [
    "twt_arc_df.in_reply_to_status_id.fillna(value='Empty', inplace=True)"
   ]
  },
  {
   "cell_type": "markdown",
   "metadata": {},
   "source": [
    "#### Test"
   ]
  },
  {
   "cell_type": "code",
   "execution_count": 67,
   "metadata": {},
   "outputs": [
    {
     "data": {
      "text/plain": [
       "tweet_id                  0\n",
       "in_reply_to_status_id     0\n",
       "in_reply_to_user_id       0\n",
       "timestamp                 0\n",
       "text                      0\n",
       "expanded_urls            58\n",
       "rating_numerator          0\n",
       "rating_denominator        0\n",
       "name                      0\n",
       "doggo                     0\n",
       "floofer                   0\n",
       "pupper                    0\n",
       "puppo                     0\n",
       "dtype: int64"
      ]
     },
     "execution_count": 67,
     "metadata": {},
     "output_type": "execute_result"
    }
   ],
   "source": [
    "twt_arc_df.isnull().sum()"
   ]
  },
  {
   "cell_type": "markdown",
   "metadata": {},
   "source": [
    "### Issue 6: Some predictions are not dog predictions"
   ]
  },
  {
   "cell_type": "markdown",
   "metadata": {},
   "source": [
    "#### Define\n",
    "Match predictions dataframe to rows where any one of p1_dog, p2_dog and p3_dog == True\n",
    "Here, we'll have to trust the predictions of the neural network because manually checking every of the images in the dataset will be nebulous. \n",
    "\n",
    "\n"
   ]
  },
  {
   "cell_type": "markdown",
   "metadata": {},
   "source": [
    "#### Code"
   ]
  },
  {
   "cell_type": "code",
   "execution_count": 68,
   "metadata": {},
   "outputs": [],
   "source": [
    "dog_tweets = predictions_df.query('p1_dog == True or p2_dog == True or p3_dog == True')"
   ]
  },
  {
   "cell_type": "code",
   "execution_count": 69,
   "metadata": {},
   "outputs": [],
   "source": [
    "predictions_df = dog_tweets"
   ]
  },
  {
   "cell_type": "markdown",
   "metadata": {},
   "source": [
    "#### Test"
   ]
  },
  {
   "cell_type": "code",
   "execution_count": 70,
   "metadata": {},
   "outputs": [
    {
     "data": {
      "text/html": [
       "<div>\n",
       "<style scoped>\n",
       "    .dataframe tbody tr th:only-of-type {\n",
       "        vertical-align: middle;\n",
       "    }\n",
       "\n",
       "    .dataframe tbody tr th {\n",
       "        vertical-align: top;\n",
       "    }\n",
       "\n",
       "    .dataframe thead th {\n",
       "        text-align: right;\n",
       "    }\n",
       "</style>\n",
       "<table border=\"1\" class=\"dataframe\">\n",
       "  <thead>\n",
       "    <tr style=\"text-align: right;\">\n",
       "      <th></th>\n",
       "      <th>p1_dog</th>\n",
       "      <th>p2_dog</th>\n",
       "      <th>p3_dog</th>\n",
       "    </tr>\n",
       "  </thead>\n",
       "  <tbody>\n",
       "    <tr>\n",
       "      <th>1245</th>\n",
       "      <td>False</td>\n",
       "      <td>True</td>\n",
       "      <td>True</td>\n",
       "    </tr>\n",
       "    <tr>\n",
       "      <th>1170</th>\n",
       "      <td>True</td>\n",
       "      <td>True</td>\n",
       "      <td>True</td>\n",
       "    </tr>\n",
       "    <tr>\n",
       "      <th>1288</th>\n",
       "      <td>False</td>\n",
       "      <td>True</td>\n",
       "      <td>True</td>\n",
       "    </tr>\n",
       "    <tr>\n",
       "      <th>5</th>\n",
       "      <td>True</td>\n",
       "      <td>True</td>\n",
       "      <td>False</td>\n",
       "    </tr>\n",
       "    <tr>\n",
       "      <th>1057</th>\n",
       "      <td>False</td>\n",
       "      <td>True</td>\n",
       "      <td>False</td>\n",
       "    </tr>\n",
       "    <tr>\n",
       "      <th>1763</th>\n",
       "      <td>True</td>\n",
       "      <td>True</td>\n",
       "      <td>True</td>\n",
       "    </tr>\n",
       "    <tr>\n",
       "      <th>352</th>\n",
       "      <td>True</td>\n",
       "      <td>True</td>\n",
       "      <td>True</td>\n",
       "    </tr>\n",
       "    <tr>\n",
       "      <th>1885</th>\n",
       "      <td>True</td>\n",
       "      <td>True</td>\n",
       "      <td>True</td>\n",
       "    </tr>\n",
       "    <tr>\n",
       "      <th>1176</th>\n",
       "      <td>True</td>\n",
       "      <td>True</td>\n",
       "      <td>True</td>\n",
       "    </tr>\n",
       "    <tr>\n",
       "      <th>1351</th>\n",
       "      <td>True</td>\n",
       "      <td>True</td>\n",
       "      <td>True</td>\n",
       "    </tr>\n",
       "    <tr>\n",
       "      <th>2287</th>\n",
       "      <td>True</td>\n",
       "      <td>True</td>\n",
       "      <td>True</td>\n",
       "    </tr>\n",
       "    <tr>\n",
       "      <th>1316</th>\n",
       "      <td>False</td>\n",
       "      <td>True</td>\n",
       "      <td>False</td>\n",
       "    </tr>\n",
       "    <tr>\n",
       "      <th>1193</th>\n",
       "      <td>True</td>\n",
       "      <td>True</td>\n",
       "      <td>True</td>\n",
       "    </tr>\n",
       "    <tr>\n",
       "      <th>1733</th>\n",
       "      <td>True</td>\n",
       "      <td>True</td>\n",
       "      <td>True</td>\n",
       "    </tr>\n",
       "    <tr>\n",
       "      <th>2070</th>\n",
       "      <td>False</td>\n",
       "      <td>True</td>\n",
       "      <td>False</td>\n",
       "    </tr>\n",
       "    <tr>\n",
       "      <th>530</th>\n",
       "      <td>True</td>\n",
       "      <td>True</td>\n",
       "      <td>True</td>\n",
       "    </tr>\n",
       "    <tr>\n",
       "      <th>587</th>\n",
       "      <td>True</td>\n",
       "      <td>True</td>\n",
       "      <td>True</td>\n",
       "    </tr>\n",
       "    <tr>\n",
       "      <th>94</th>\n",
       "      <td>True</td>\n",
       "      <td>True</td>\n",
       "      <td>True</td>\n",
       "    </tr>\n",
       "    <tr>\n",
       "      <th>1189</th>\n",
       "      <td>True</td>\n",
       "      <td>False</td>\n",
       "      <td>True</td>\n",
       "    </tr>\n",
       "    <tr>\n",
       "      <th>1848</th>\n",
       "      <td>True</td>\n",
       "      <td>True</td>\n",
       "      <td>True</td>\n",
       "    </tr>\n",
       "  </tbody>\n",
       "</table>\n",
       "</div>"
      ],
      "text/plain": [
       "     p1_dog p2_dog p3_dog\n",
       "1245  False   True   True\n",
       "1170   True   True   True\n",
       "1288  False   True   True\n",
       "5      True   True  False\n",
       "1057  False   True  False\n",
       "1763   True   True   True\n",
       "352    True   True   True\n",
       "1885   True   True   True\n",
       "1176   True   True   True\n",
       "1351   True   True   True\n",
       "2287   True   True   True\n",
       "1316  False   True  False\n",
       "1193   True   True   True\n",
       "1733   True   True   True\n",
       "2070  False   True  False\n",
       "530    True   True   True\n",
       "587    True   True   True\n",
       "94     True   True   True\n",
       "1189   True  False   True\n",
       "1848   True   True   True"
      ]
     },
     "execution_count": 70,
     "metadata": {},
     "output_type": "execute_result"
    }
   ],
   "source": [
    "predictions_df.sample(20)[['p1_dog', 'p2_dog', 'p3_dog']]"
   ]
  },
  {
   "cell_type": "code",
   "execution_count": 71,
   "metadata": {},
   "outputs": [
    {
     "name": "stdout",
     "output_type": "stream",
     "text": [
      "All predictions are dog predictions\n"
     ]
    }
   ],
   "source": [
    "test_list_a = [predictions_df.p1_dog.values.all()]\n",
    "test_list_b = [predictions_df.p2_dog.values.all()]\n",
    "test_list_c = [predictions_df.p3_dog.values.all()]\n",
    "for value in test_list_a, test_list_b, test_list_c:\n",
    "    if value in test_list_a == False and value in test_list_b == False and value in test_list_c == False:\n",
    "        statement = 'Non-dog predictions present'\n",
    "    else:\n",
    "        statement = 'All predictions are dog predictions'\n",
    "print(statement)\n"
   ]
  },
  {
   "cell_type": "markdown",
   "metadata": {},
   "source": [
    "### Issues 7 & 8: Date and time in string datatype and in the same column\n"
   ]
  },
  {
   "cell_type": "markdown",
   "metadata": {},
   "source": [
    "### Define \n",
    "1. Convert timestamp to a datatime object\n",
    "2. Create 2 new columns and assign date and time to the new columns separately\n",
    "3. Drop timestamp column"
   ]
  },
  {
   "cell_type": "markdown",
   "metadata": {},
   "source": [
    "#### Code"
   ]
  },
  {
   "cell_type": "code",
   "execution_count": 72,
   "metadata": {},
   "outputs": [],
   "source": [
    "twt_arc_df.timestamp = pd.to_datetime(twt_arc_df.timestamp)"
   ]
  },
  {
   "cell_type": "code",
   "execution_count": 73,
   "metadata": {},
   "outputs": [],
   "source": [
    "twt_arc_df['date'] = twt_arc_df.timestamp.dt.date.astype('datetime64')"
   ]
  },
  {
   "cell_type": "code",
   "execution_count": 74,
   "metadata": {},
   "outputs": [],
   "source": [
    "twt_arc_df['time'] = twt_arc_df.timestamp.dt.strftime('%H:%M')"
   ]
  },
  {
   "cell_type": "code",
   "execution_count": 75,
   "metadata": {},
   "outputs": [],
   "source": [
    "twt_arc_df.drop(columns=['timestamp'], inplace=True)"
   ]
  },
  {
   "cell_type": "code",
   "execution_count": 76,
   "metadata": {},
   "outputs": [
    {
     "data": {
      "text/html": [
       "<div>\n",
       "<style scoped>\n",
       "    .dataframe tbody tr th:only-of-type {\n",
       "        vertical-align: middle;\n",
       "    }\n",
       "\n",
       "    .dataframe tbody tr th {\n",
       "        vertical-align: top;\n",
       "    }\n",
       "\n",
       "    .dataframe thead th {\n",
       "        text-align: right;\n",
       "    }\n",
       "</style>\n",
       "<table border=\"1\" class=\"dataframe\">\n",
       "  <thead>\n",
       "    <tr style=\"text-align: right;\">\n",
       "      <th></th>\n",
       "      <th>date</th>\n",
       "      <th>time</th>\n",
       "    </tr>\n",
       "  </thead>\n",
       "  <tbody>\n",
       "    <tr>\n",
       "      <th>0</th>\n",
       "      <td>2017-08-01</td>\n",
       "      <td>16:23</td>\n",
       "    </tr>\n",
       "    <tr>\n",
       "      <th>1</th>\n",
       "      <td>2017-08-01</td>\n",
       "      <td>00:17</td>\n",
       "    </tr>\n",
       "    <tr>\n",
       "      <th>2</th>\n",
       "      <td>2017-07-31</td>\n",
       "      <td>00:18</td>\n",
       "    </tr>\n",
       "    <tr>\n",
       "      <th>3</th>\n",
       "      <td>2017-07-30</td>\n",
       "      <td>15:58</td>\n",
       "    </tr>\n",
       "    <tr>\n",
       "      <th>4</th>\n",
       "      <td>2017-07-29</td>\n",
       "      <td>16:00</td>\n",
       "    </tr>\n",
       "  </tbody>\n",
       "</table>\n",
       "</div>"
      ],
      "text/plain": [
       "        date   time\n",
       "0 2017-08-01  16:23\n",
       "1 2017-08-01  00:17\n",
       "2 2017-07-31  00:18\n",
       "3 2017-07-30  15:58\n",
       "4 2017-07-29  16:00"
      ]
     },
     "execution_count": 76,
     "metadata": {},
     "output_type": "execute_result"
    }
   ],
   "source": [
    "twt_arc_df.head()[['date', 'time']]"
   ]
  },
  {
   "cell_type": "markdown",
   "metadata": {},
   "source": [
    "#### Test"
   ]
  },
  {
   "cell_type": "code",
   "execution_count": 77,
   "metadata": {},
   "outputs": [
    {
     "name": "stdout",
     "output_type": "stream",
     "text": [
      "<class 'pandas.core.frame.DataFrame'>\n",
      "Int64Index: 2175 entries, 0 to 2355\n",
      "Data columns (total 14 columns):\n",
      " #   Column                 Non-Null Count  Dtype         \n",
      "---  ------                 --------------  -----         \n",
      " 0   tweet_id               2175 non-null   int64         \n",
      " 1   in_reply_to_status_id  2175 non-null   object        \n",
      " 2   in_reply_to_user_id    2175 non-null   object        \n",
      " 3   text                   2175 non-null   object        \n",
      " 4   expanded_urls          2117 non-null   object        \n",
      " 5   rating_numerator       2175 non-null   int64         \n",
      " 6   rating_denominator     2175 non-null   int64         \n",
      " 7   name                   2175 non-null   object        \n",
      " 8   doggo                  2175 non-null   object        \n",
      " 9   floofer                2175 non-null   object        \n",
      " 10  pupper                 2175 non-null   object        \n",
      " 11  puppo                  2175 non-null   object        \n",
      " 12  date                   2175 non-null   datetime64[ns]\n",
      " 13  time                   2175 non-null   object        \n",
      "dtypes: datetime64[ns](1), int64(3), object(10)\n",
      "memory usage: 254.9+ KB\n"
     ]
    }
   ],
   "source": [
    "twt_arc_df.info()"
   ]
  },
  {
   "cell_type": "markdown",
   "metadata": {},
   "source": [
    "### Issue 9: Uneven length between predictions and additional data\n"
   ]
  },
  {
   "cell_type": "markdown",
   "metadata": {},
   "source": [
    "#### Define\n",
    "Merge the three dataframes using `inner join` method"
   ]
  },
  {
   "cell_type": "markdown",
   "metadata": {},
   "source": [
    "#### Code"
   ]
  },
  {
   "cell_type": "code",
   "execution_count": 78,
   "metadata": {},
   "outputs": [],
   "source": [
    "tweet_arc_master = pd.concat([twt_arc_df.set_index('tweet_id'), predictions_df.set_index('tweet_id'), add_data.set_index('tweet_id')], axis=1, join='inner').reset_index()"
   ]
  },
  {
   "cell_type": "markdown",
   "metadata": {},
   "source": [
    "#### Test"
   ]
  },
  {
   "cell_type": "code",
   "execution_count": 79,
   "metadata": {},
   "outputs": [
    {
     "name": "stdout",
     "output_type": "stream",
     "text": [
      "<class 'pandas.core.frame.DataFrame'>\n",
      "RangeIndex: 1686 entries, 0 to 1685\n",
      "Data columns (total 27 columns):\n",
      " #   Column                 Non-Null Count  Dtype         \n",
      "---  ------                 --------------  -----         \n",
      " 0   tweet_id               1686 non-null   int64         \n",
      " 1   in_reply_to_status_id  1686 non-null   object        \n",
      " 2   in_reply_to_user_id    1686 non-null   object        \n",
      " 3   text                   1686 non-null   object        \n",
      " 4   expanded_urls          1686 non-null   object        \n",
      " 5   rating_numerator       1686 non-null   int64         \n",
      " 6   rating_denominator     1686 non-null   int64         \n",
      " 7   name                   1686 non-null   object        \n",
      " 8   doggo                  1686 non-null   object        \n",
      " 9   floofer                1686 non-null   object        \n",
      " 10  pupper                 1686 non-null   object        \n",
      " 11  puppo                  1686 non-null   object        \n",
      " 12  date                   1686 non-null   datetime64[ns]\n",
      " 13  time                   1686 non-null   object        \n",
      " 14  jpg_url                1686 non-null   object        \n",
      " 15  img_num                1686 non-null   float64       \n",
      " 16  p1                     1686 non-null   object        \n",
      " 17  p1_conf                1686 non-null   float64       \n",
      " 18  p1_dog                 1686 non-null   object        \n",
      " 19  p2                     1686 non-null   object        \n",
      " 20  p2_conf                1686 non-null   float64       \n",
      " 21  p2_dog                 1686 non-null   object        \n",
      " 22  p3                     1686 non-null   object        \n",
      " 23  p3_conf                1686 non-null   float64       \n",
      " 24  p3_dog                 1686 non-null   object        \n",
      " 25  retweet_count          1686 non-null   int64         \n",
      " 26  favourite_count        1686 non-null   int64         \n",
      "dtypes: datetime64[ns](1), float64(4), int64(5), object(17)\n",
      "memory usage: 355.8+ KB\n"
     ]
    }
   ],
   "source": [
    "tweet_arc_master.info()"
   ]
  },
  {
   "cell_type": "markdown",
   "metadata": {},
   "source": [
    "## Tidiness Issues"
   ]
  },
  {
   "cell_type": "markdown",
   "metadata": {},
   "source": [
    "1. dog breed predictions in image_predictions dataframe not uniform in appearance. Should all be in lowercase.\n",
    "\n",
    "2. Dog stages should be one column instead of 4 since they're the same variable Dog_Stage"
   ]
  },
  {
   "cell_type": "markdown",
   "metadata": {},
   "source": [
    "### Issue 1: dog breed predictions in image_predictions dataframe not uniform in appearance. \n",
    "Should all be in lowercase"
   ]
  },
  {
   "cell_type": "markdown",
   "metadata": {},
   "source": [
    "#### Define\n",
    "convert all values in p1, p2, p3 to lowercase for consistency"
   ]
  },
  {
   "cell_type": "markdown",
   "metadata": {},
   "source": [
    "#### Code"
   ]
  },
  {
   "cell_type": "code",
   "execution_count": 80,
   "metadata": {},
   "outputs": [],
   "source": [
    "tweet_arc_master.p1 = tweet_arc_master.p1.str.lower()"
   ]
  },
  {
   "cell_type": "code",
   "execution_count": 81,
   "metadata": {},
   "outputs": [],
   "source": [
    "tweet_arc_master.p2 = tweet_arc_master.p2.str.lower()"
   ]
  },
  {
   "cell_type": "code",
   "execution_count": 82,
   "metadata": {},
   "outputs": [],
   "source": [
    "tweet_arc_master.p3 = tweet_arc_master.p3.str.lower()"
   ]
  },
  {
   "cell_type": "markdown",
   "metadata": {},
   "source": [
    "#### Test"
   ]
  },
  {
   "cell_type": "code",
   "execution_count": 83,
   "metadata": {},
   "outputs": [
    {
     "data": {
      "text/html": [
       "<div>\n",
       "<style scoped>\n",
       "    .dataframe tbody tr th:only-of-type {\n",
       "        vertical-align: middle;\n",
       "    }\n",
       "\n",
       "    .dataframe tbody tr th {\n",
       "        vertical-align: top;\n",
       "    }\n",
       "\n",
       "    .dataframe thead th {\n",
       "        text-align: right;\n",
       "    }\n",
       "</style>\n",
       "<table border=\"1\" class=\"dataframe\">\n",
       "  <thead>\n",
       "    <tr style=\"text-align: right;\">\n",
       "      <th></th>\n",
       "      <th>p1</th>\n",
       "      <th>p2</th>\n",
       "      <th>p3</th>\n",
       "    </tr>\n",
       "  </thead>\n",
       "  <tbody>\n",
       "    <tr>\n",
       "      <th>0</th>\n",
       "      <td>chihuahua</td>\n",
       "      <td>pekinese</td>\n",
       "      <td>papillon</td>\n",
       "    </tr>\n",
       "    <tr>\n",
       "      <th>1</th>\n",
       "      <td>chihuahua</td>\n",
       "      <td>malamute</td>\n",
       "      <td>kelpie</td>\n",
       "    </tr>\n",
       "    <tr>\n",
       "      <th>2</th>\n",
       "      <td>paper_towel</td>\n",
       "      <td>labrador_retriever</td>\n",
       "      <td>spatula</td>\n",
       "    </tr>\n",
       "    <tr>\n",
       "      <th>3</th>\n",
       "      <td>basset</td>\n",
       "      <td>english_springer</td>\n",
       "      <td>german_short-haired_pointer</td>\n",
       "    </tr>\n",
       "    <tr>\n",
       "      <th>4</th>\n",
       "      <td>chesapeake_bay_retriever</td>\n",
       "      <td>irish_terrier</td>\n",
       "      <td>indian_elephant</td>\n",
       "    </tr>\n",
       "  </tbody>\n",
       "</table>\n",
       "</div>"
      ],
      "text/plain": [
       "                         p1                  p2                           p3\n",
       "0                 chihuahua            pekinese                     papillon\n",
       "1                 chihuahua            malamute                       kelpie\n",
       "2               paper_towel  labrador_retriever                      spatula\n",
       "3                    basset    english_springer  german_short-haired_pointer\n",
       "4  chesapeake_bay_retriever       irish_terrier              indian_elephant"
      ]
     },
     "execution_count": 83,
     "metadata": {},
     "output_type": "execute_result"
    }
   ],
   "source": [
    "tweet_arc_master.head()[['p1', 'p2', 'p3']]"
   ]
  },
  {
   "cell_type": "markdown",
   "metadata": {},
   "source": [
    "### Issue 2: Dog stage variables spread across four columns instead of one"
   ]
  },
  {
   "cell_type": "markdown",
   "metadata": {},
   "source": [
    "#### Define\n",
    "1. Write a function to search through all the values in the dog_stage rows and retun non-null values\n",
    "2. Create a new column and assign the values of the function to the new row.\n",
    "3. Drop unncessary columns\n"
   ]
  },
  {
   "cell_type": "markdown",
   "metadata": {},
   "source": [
    "#### Code"
   ]
  },
  {
   "cell_type": "code",
   "execution_count": 84,
   "metadata": {},
   "outputs": [
    {
     "data": {
      "text/plain": [
       "pupper     168\n",
       "doggo       64\n",
       "puppo       21\n",
       "floofer      7\n",
       "Name: dog_stage, dtype: int64"
      ]
     },
     "execution_count": 84,
     "metadata": {},
     "output_type": "execute_result"
    }
   ],
   "source": [
    "def replace_func(row):\n",
    "    target_cols = [row.doggo, row.floofer, row.pupper, row.puppo]\n",
    "    for val in target_cols:\n",
    "        if val != 'None':\n",
    "            return val\n",
    "#tweet_arc_master.columns\n",
    "tweet_arc_master['dog_stage'] = tweet_arc_master.apply(replace_func, axis=1)\n",
    "tweet_arc_master.dog_stage.value_counts()"
   ]
  },
  {
   "cell_type": "code",
   "execution_count": 85,
   "metadata": {},
   "outputs": [],
   "source": [
    "tweet_arc_master.drop(columns=['doggo', 'floofer', 'pupper', 'puppo'], inplace=True)"
   ]
  },
  {
   "cell_type": "markdown",
   "metadata": {},
   "source": [
    "#### Test\n"
   ]
  },
  {
   "cell_type": "code",
   "execution_count": 86,
   "metadata": {},
   "outputs": [
    {
     "data": {
      "text/plain": [
       "Index(['tweet_id', 'in_reply_to_status_id', 'in_reply_to_user_id', 'text',\n",
       "       'expanded_urls', 'rating_numerator', 'rating_denominator', 'name',\n",
       "       'date', 'time', 'jpg_url', 'img_num', 'p1', 'p1_conf', 'p1_dog', 'p2',\n",
       "       'p2_conf', 'p2_dog', 'p3', 'p3_conf', 'p3_dog', 'retweet_count',\n",
       "       'favourite_count', 'dog_stage'],\n",
       "      dtype='object')"
      ]
     },
     "execution_count": 86,
     "metadata": {},
     "output_type": "execute_result"
    }
   ],
   "source": [
    "tweet_arc_master.columns"
   ]
  },
  {
   "cell_type": "code",
   "execution_count": 87,
   "metadata": {},
   "outputs": [
    {
     "data": {
      "text/html": [
       "<div>\n",
       "<style scoped>\n",
       "    .dataframe tbody tr th:only-of-type {\n",
       "        vertical-align: middle;\n",
       "    }\n",
       "\n",
       "    .dataframe tbody tr th {\n",
       "        vertical-align: top;\n",
       "    }\n",
       "\n",
       "    .dataframe thead th {\n",
       "        text-align: right;\n",
       "    }\n",
       "</style>\n",
       "<table border=\"1\" class=\"dataframe\">\n",
       "  <thead>\n",
       "    <tr style=\"text-align: right;\">\n",
       "      <th></th>\n",
       "      <th>tweet_id</th>\n",
       "      <th>name</th>\n",
       "      <th>date</th>\n",
       "      <th>time</th>\n",
       "      <th>jpg_url</th>\n",
       "      <th>img_num</th>\n",
       "      <th>p1</th>\n",
       "      <th>p1_conf</th>\n",
       "      <th>p1_dog</th>\n",
       "      <th>p2</th>\n",
       "      <th>p2_conf</th>\n",
       "      <th>p2_dog</th>\n",
       "      <th>p3</th>\n",
       "      <th>p3_conf</th>\n",
       "      <th>p3_dog</th>\n",
       "      <th>retweet_count</th>\n",
       "      <th>favourite_count</th>\n",
       "      <th>dog_stage</th>\n",
       "    </tr>\n",
       "  </thead>\n",
       "  <tbody>\n",
       "    <tr>\n",
       "      <th>0</th>\n",
       "      <td>892177421306343426</td>\n",
       "      <td>Tilly</td>\n",
       "      <td>2017-08-01</td>\n",
       "      <td>00:17</td>\n",
       "      <td>https://pbs.twimg.com/media/DGGmoV4XsAAUL6n.jpg</td>\n",
       "      <td>1.0</td>\n",
       "      <td>chihuahua</td>\n",
       "      <td>0.323581</td>\n",
       "      <td>True</td>\n",
       "      <td>pekinese</td>\n",
       "      <td>0.090647</td>\n",
       "      <td>True</td>\n",
       "      <td>papillon</td>\n",
       "      <td>0.068957</td>\n",
       "      <td>True</td>\n",
       "      <td>6514</td>\n",
       "      <td>33819</td>\n",
       "      <td>None</td>\n",
       "    </tr>\n",
       "    <tr>\n",
       "      <th>1</th>\n",
       "      <td>891815181378084864</td>\n",
       "      <td>Archie</td>\n",
       "      <td>2017-07-31</td>\n",
       "      <td>00:18</td>\n",
       "      <td>https://pbs.twimg.com/media/DGBdLU1WsAANxJ9.jpg</td>\n",
       "      <td>1.0</td>\n",
       "      <td>chihuahua</td>\n",
       "      <td>0.716012</td>\n",
       "      <td>True</td>\n",
       "      <td>malamute</td>\n",
       "      <td>0.078253</td>\n",
       "      <td>True</td>\n",
       "      <td>kelpie</td>\n",
       "      <td>0.031379</td>\n",
       "      <td>True</td>\n",
       "      <td>4328</td>\n",
       "      <td>25461</td>\n",
       "      <td>None</td>\n",
       "    </tr>\n",
       "    <tr>\n",
       "      <th>2</th>\n",
       "      <td>891689557279858688</td>\n",
       "      <td>Darla</td>\n",
       "      <td>2017-07-30</td>\n",
       "      <td>15:58</td>\n",
       "      <td>https://pbs.twimg.com/media/DF_q7IAWsAEuuN8.jpg</td>\n",
       "      <td>1.0</td>\n",
       "      <td>paper_towel</td>\n",
       "      <td>0.170278</td>\n",
       "      <td>False</td>\n",
       "      <td>labrador_retriever</td>\n",
       "      <td>0.168086</td>\n",
       "      <td>True</td>\n",
       "      <td>spatula</td>\n",
       "      <td>0.040836</td>\n",
       "      <td>False</td>\n",
       "      <td>8964</td>\n",
       "      <td>42908</td>\n",
       "      <td>None</td>\n",
       "    </tr>\n",
       "    <tr>\n",
       "      <th>3</th>\n",
       "      <td>891327558926688256</td>\n",
       "      <td>Franklin</td>\n",
       "      <td>2017-07-29</td>\n",
       "      <td>16:00</td>\n",
       "      <td>https://pbs.twimg.com/media/DF6hr6BUMAAzZgT.jpg</td>\n",
       "      <td>2.0</td>\n",
       "      <td>basset</td>\n",
       "      <td>0.555712</td>\n",
       "      <td>True</td>\n",
       "      <td>english_springer</td>\n",
       "      <td>0.225770</td>\n",
       "      <td>True</td>\n",
       "      <td>german_short-haired_pointer</td>\n",
       "      <td>0.175219</td>\n",
       "      <td>True</td>\n",
       "      <td>9774</td>\n",
       "      <td>41048</td>\n",
       "      <td>None</td>\n",
       "    </tr>\n",
       "    <tr>\n",
       "      <th>4</th>\n",
       "      <td>891087950875897856</td>\n",
       "      <td>None</td>\n",
       "      <td>2017-07-29</td>\n",
       "      <td>00:08</td>\n",
       "      <td>https://pbs.twimg.com/media/DF3HwyEWsAABqE6.jpg</td>\n",
       "      <td>1.0</td>\n",
       "      <td>chesapeake_bay_retriever</td>\n",
       "      <td>0.425595</td>\n",
       "      <td>True</td>\n",
       "      <td>irish_terrier</td>\n",
       "      <td>0.116317</td>\n",
       "      <td>True</td>\n",
       "      <td>indian_elephant</td>\n",
       "      <td>0.076902</td>\n",
       "      <td>False</td>\n",
       "      <td>3261</td>\n",
       "      <td>20562</td>\n",
       "      <td>None</td>\n",
       "    </tr>\n",
       "  </tbody>\n",
       "</table>\n",
       "</div>"
      ],
      "text/plain": [
       "             tweet_id      name       date   time  \\\n",
       "0  892177421306343426     Tilly 2017-08-01  00:17   \n",
       "1  891815181378084864    Archie 2017-07-31  00:18   \n",
       "2  891689557279858688     Darla 2017-07-30  15:58   \n",
       "3  891327558926688256  Franklin 2017-07-29  16:00   \n",
       "4  891087950875897856      None 2017-07-29  00:08   \n",
       "\n",
       "                                           jpg_url  img_num  \\\n",
       "0  https://pbs.twimg.com/media/DGGmoV4XsAAUL6n.jpg      1.0   \n",
       "1  https://pbs.twimg.com/media/DGBdLU1WsAANxJ9.jpg      1.0   \n",
       "2  https://pbs.twimg.com/media/DF_q7IAWsAEuuN8.jpg      1.0   \n",
       "3  https://pbs.twimg.com/media/DF6hr6BUMAAzZgT.jpg      2.0   \n",
       "4  https://pbs.twimg.com/media/DF3HwyEWsAABqE6.jpg      1.0   \n",
       "\n",
       "                         p1   p1_conf p1_dog                  p2   p2_conf  \\\n",
       "0                 chihuahua  0.323581   True            pekinese  0.090647   \n",
       "1                 chihuahua  0.716012   True            malamute  0.078253   \n",
       "2               paper_towel  0.170278  False  labrador_retriever  0.168086   \n",
       "3                    basset  0.555712   True    english_springer  0.225770   \n",
       "4  chesapeake_bay_retriever  0.425595   True       irish_terrier  0.116317   \n",
       "\n",
       "  p2_dog                           p3   p3_conf p3_dog  retweet_count  \\\n",
       "0   True                     papillon  0.068957   True           6514   \n",
       "1   True                       kelpie  0.031379   True           4328   \n",
       "2   True                      spatula  0.040836  False           8964   \n",
       "3   True  german_short-haired_pointer  0.175219   True           9774   \n",
       "4   True              indian_elephant  0.076902  False           3261   \n",
       "\n",
       "   favourite_count dog_stage  \n",
       "0            33819      None  \n",
       "1            25461      None  \n",
       "2            42908      None  \n",
       "3            41048      None  \n",
       "4            20562      None  "
      ]
     },
     "execution_count": 87,
     "metadata": {},
     "output_type": "execute_result"
    }
   ],
   "source": [
    "tweet_arc_master.head()[['tweet_id','name',\n",
    "       'date', 'time', 'jpg_url', 'img_num', 'p1', 'p1_conf', 'p1_dog', 'p2',\n",
    "       'p2_conf', 'p2_dog', 'p3', 'p3_conf', 'p3_dog', 'retweet_count',\n",
    "       'favourite_count', 'dog_stage']]"
   ]
  },
  {
   "cell_type": "markdown",
   "metadata": {},
   "source": [
    "## Storing Data\n",
    "Saving gathered, assessed, and cleaned master dataset to a CSV file named \"twitter_archive_master.csv\"."
   ]
  },
  {
   "cell_type": "code",
   "execution_count": 88,
   "metadata": {},
   "outputs": [],
   "source": [
    "tweet_arc_master.to_csv('twitter_archive_master.csv')"
   ]
  },
  {
   "cell_type": "markdown",
   "metadata": {},
   "source": [
    "## Analyzing and Visualizing Data\n",
    "In this section, analyze and visualize your wrangled data. You must produce at least **three (3) insights and one (1) visualization.**"
   ]
  },
  {
   "cell_type": "markdown",
   "metadata": {},
   "source": [
    "#### Insight 1\n",
    "What is the most common dog stage in the dataset?"
   ]
  },
  {
   "cell_type": "code",
   "execution_count": 89,
   "metadata": {},
   "outputs": [
    {
     "data": {
      "text/plain": [
       "count        260\n",
       "unique         4\n",
       "top       pupper\n",
       "freq         168\n",
       "Name: dog_stage, dtype: object"
      ]
     },
     "execution_count": 89,
     "metadata": {},
     "output_type": "execute_result"
    }
   ],
   "source": [
    "tweet_arc_master.dog_stage.describe()\n",
    "\n",
    "# The most common dog stage is pupper"
   ]
  },
  {
   "cell_type": "code",
   "execution_count": 90,
   "metadata": {},
   "outputs": [
    {
     "data": {
      "text/plain": [
       "pupper     168\n",
       "doggo       64\n",
       "puppo       21\n",
       "floofer      7\n",
       "Name: dog_stage, dtype: int64"
      ]
     },
     "execution_count": 90,
     "metadata": {},
     "output_type": "execute_result"
    }
   ],
   "source": [
    "tweet_arc_master.dog_stage.value_counts()"
   ]
  },
  {
   "cell_type": "markdown",
   "metadata": {},
   "source": [
    "Most of the dogs in the dataset are young'uns! People love their baby doggos and are probably most excited about showing them off to the world when they're still young. "
   ]
  },
  {
   "cell_type": "markdown",
   "metadata": {},
   "source": [
    "#### Insight 2\n",
    "What was the most frequent rating?"
   ]
  },
  {
   "cell_type": "code",
   "execution_count": 91,
   "metadata": {},
   "outputs": [
    {
     "data": {
      "text/plain": [
       "0    12\n",
       "dtype: int64"
      ]
     },
     "execution_count": 91,
     "metadata": {},
     "output_type": "execute_result"
    }
   ],
   "source": [
    "tweet_arc_master.rating_numerator.mode()"
   ]
  },
  {
   "cell_type": "code",
   "execution_count": 92,
   "metadata": {},
   "outputs": [
    {
     "data": {
      "text/plain": [
       "12     423\n",
       "10     360\n",
       "11     356\n",
       "13     229\n",
       "9      133\n",
       "8       68\n",
       "7       32\n",
       "14      23\n",
       "6       16\n",
       "5       14\n",
       "4        7\n",
       "3        5\n",
       "2        2\n",
       "165      1\n",
       "1        1\n",
       "24       1\n",
       "144      1\n",
       "26       1\n",
       "27       1\n",
       "44       1\n",
       "45       1\n",
       "50       1\n",
       "60       1\n",
       "75       1\n",
       "80       1\n",
       "84       1\n",
       "88       1\n",
       "99       1\n",
       "121      1\n",
       "143      1\n",
       "0        1\n",
       "Name: rating_numerator, dtype: int64"
      ]
     },
     "execution_count": 92,
     "metadata": {},
     "output_type": "execute_result"
    }
   ],
   "source": [
    "tweet_arc_master.rating_numerator.value_counts()"
   ]
  },
  {
   "cell_type": "markdown",
   "metadata": {},
   "source": [
    "Dogs most frequently got ratings of 12/10. \n",
    "Most of the dogs rated by WeRateDogs are good dogs, Brent."
   ]
  },
  {
   "cell_type": "markdown",
   "metadata": {},
   "source": [
    "#### Insight 3\n",
    "There is a strong correlation between retweet count and favourite count. \n",
    "This means that tweets which were retweeted widely also had a lot of likes. "
   ]
  },
  {
   "cell_type": "code",
   "execution_count": 93,
   "metadata": {},
   "outputs": [
    {
     "data": {
      "text/html": [
       "<div>\n",
       "<style scoped>\n",
       "    .dataframe tbody tr th:only-of-type {\n",
       "        vertical-align: middle;\n",
       "    }\n",
       "\n",
       "    .dataframe tbody tr th {\n",
       "        vertical-align: top;\n",
       "    }\n",
       "\n",
       "    .dataframe thead th {\n",
       "        text-align: right;\n",
       "    }\n",
       "</style>\n",
       "<table border=\"1\" class=\"dataframe\">\n",
       "  <thead>\n",
       "    <tr style=\"text-align: right;\">\n",
       "      <th></th>\n",
       "      <th>retweet_count</th>\n",
       "      <th>favourite_count</th>\n",
       "    </tr>\n",
       "  </thead>\n",
       "  <tbody>\n",
       "    <tr>\n",
       "      <th>retweet_count</th>\n",
       "      <td>1.000000</td>\n",
       "      <td>0.913176</td>\n",
       "    </tr>\n",
       "    <tr>\n",
       "      <th>favourite_count</th>\n",
       "      <td>0.913176</td>\n",
       "      <td>1.000000</td>\n",
       "    </tr>\n",
       "  </tbody>\n",
       "</table>\n",
       "</div>"
      ],
      "text/plain": [
       "                 retweet_count  favourite_count\n",
       "retweet_count         1.000000         0.913176\n",
       "favourite_count       0.913176         1.000000"
      ]
     },
     "execution_count": 93,
     "metadata": {},
     "output_type": "execute_result"
    }
   ],
   "source": [
    "tweet_arc_master[['retweet_count', 'favourite_count']].corr()"
   ]
  },
  {
   "cell_type": "markdown",
   "metadata": {},
   "source": [
    "### Insight 4\n",
    "What was the most common dog breed?"
   ]
  },
  {
   "cell_type": "code",
   "execution_count": 94,
   "metadata": {},
   "outputs": [
    {
     "data": {
      "text/plain": [
       "0    golden_retriever\n",
       "dtype: object"
      ]
     },
     "execution_count": 94,
     "metadata": {},
     "output_type": "execute_result"
    }
   ],
   "source": [
    "tweet_arc_master.p1.mode()"
   ]
  },
  {
   "cell_type": "code",
   "execution_count": 95,
   "metadata": {},
   "outputs": [
    {
     "data": {
      "text/plain": [
       "0    labrador_retriever\n",
       "dtype: object"
      ]
     },
     "execution_count": 95,
     "metadata": {},
     "output_type": "execute_result"
    }
   ],
   "source": [
    "tweet_arc_master.p2.mode()"
   ]
  },
  {
   "cell_type": "code",
   "execution_count": 96,
   "metadata": {},
   "outputs": [
    {
     "data": {
      "text/plain": [
       "0    labrador_retriever\n",
       "dtype: object"
      ]
     },
     "execution_count": 96,
     "metadata": {},
     "output_type": "execute_result"
    }
   ],
   "source": [
    "tweet_arc_master.p3.mode()"
   ]
  },
  {
   "cell_type": "markdown",
   "metadata": {},
   "source": [
    "The most common dog breeds across the three neural network predictions were labrador retriever and golden retriever"
   ]
  },
  {
   "cell_type": "markdown",
   "metadata": {
    "collapsed": true
   },
   "source": [
    "### Visualization"
   ]
  },
  {
   "cell_type": "code",
   "execution_count": 97,
   "metadata": {},
   "outputs": [
    {
     "data": {
      "text/plain": [
       "Index(['tweet_id', 'in_reply_to_status_id', 'in_reply_to_user_id', 'text',\n",
       "       'expanded_urls', 'rating_numerator', 'rating_denominator', 'name',\n",
       "       'date', 'time', 'jpg_url', 'img_num', 'p1', 'p1_conf', 'p1_dog', 'p2',\n",
       "       'p2_conf', 'p2_dog', 'p3', 'p3_conf', 'p3_dog', 'retweet_count',\n",
       "       'favourite_count', 'dog_stage'],\n",
       "      dtype='object')"
      ]
     },
     "execution_count": 97,
     "metadata": {},
     "output_type": "execute_result"
    }
   ],
   "source": [
    "tweet_arc_master.columns"
   ]
  },
  {
   "cell_type": "markdown",
   "metadata": {},
   "source": [
    "Find the top 10 tweets with the highest number of retweets"
   ]
  },
  {
   "cell_type": "code",
   "execution_count": 98,
   "metadata": {},
   "outputs": [
    {
     "data": {
      "text/html": [
       "<div>\n",
       "<style scoped>\n",
       "    .dataframe tbody tr th:only-of-type {\n",
       "        vertical-align: middle;\n",
       "    }\n",
       "\n",
       "    .dataframe tbody tr th {\n",
       "        vertical-align: top;\n",
       "    }\n",
       "\n",
       "    .dataframe thead th {\n",
       "        text-align: right;\n",
       "    }\n",
       "</style>\n",
       "<table border=\"1\" class=\"dataframe\">\n",
       "  <thead>\n",
       "    <tr style=\"text-align: right;\">\n",
       "      <th></th>\n",
       "      <th>retweet_count</th>\n",
       "      <th>p1</th>\n",
       "    </tr>\n",
       "  </thead>\n",
       "  <tbody>\n",
       "    <tr>\n",
       "      <th>691</th>\n",
       "      <td>79515</td>\n",
       "      <td>labrador_retriever</td>\n",
       "    </tr>\n",
       "    <tr>\n",
       "      <th>363</th>\n",
       "      <td>56625</td>\n",
       "      <td>chihuahua</td>\n",
       "    </tr>\n",
       "    <tr>\n",
       "      <th>719</th>\n",
       "      <td>52360</td>\n",
       "      <td>eskimo_dog</td>\n",
       "    </tr>\n",
       "    <tr>\n",
       "      <th>278</th>\n",
       "      <td>48265</td>\n",
       "      <td>lakeland_terrier</td>\n",
       "    </tr>\n",
       "    <tr>\n",
       "      <th>53</th>\n",
       "      <td>45849</td>\n",
       "      <td>english_springer</td>\n",
       "    </tr>\n",
       "    <tr>\n",
       "      <th>299</th>\n",
       "      <td>42228</td>\n",
       "      <td>standard_poodle</td>\n",
       "    </tr>\n",
       "    <tr>\n",
       "      <th>365</th>\n",
       "      <td>37911</td>\n",
       "      <td>arabian_camel</td>\n",
       "    </tr>\n",
       "    <tr>\n",
       "      <th>100</th>\n",
       "      <td>32883</td>\n",
       "      <td>french_bulldog</td>\n",
       "    </tr>\n",
       "    <tr>\n",
       "      <th>1294</th>\n",
       "      <td>31989</td>\n",
       "      <td>bubble</td>\n",
       "    </tr>\n",
       "    <tr>\n",
       "      <th>305</th>\n",
       "      <td>31314</td>\n",
       "      <td>cocker_spaniel</td>\n",
       "    </tr>\n",
       "  </tbody>\n",
       "</table>\n",
       "</div>"
      ],
      "text/plain": [
       "      retweet_count                  p1\n",
       "691           79515  labrador_retriever\n",
       "363           56625           chihuahua\n",
       "719           52360          eskimo_dog\n",
       "278           48265    lakeland_terrier\n",
       "53            45849    english_springer\n",
       "299           42228     standard_poodle\n",
       "365           37911       arabian_camel\n",
       "100           32883      french_bulldog\n",
       "1294          31989              bubble\n",
       "305           31314      cocker_spaniel"
      ]
     },
     "execution_count": 98,
     "metadata": {},
     "output_type": "execute_result"
    }
   ],
   "source": [
    "# the highest confidence rating is p1 since the neural network retrieved the three most accurate predictions\n",
    "x = tweet_arc_master\n",
    "top_10 = x.nlargest(10, 'retweet_count')[['retweet_count','p1']]\n",
    "top_10"
   ]
  },
  {
   "cell_type": "code",
   "execution_count": 99,
   "metadata": {},
   "outputs": [
    {
     "data": {
      "image/png": "[encoded data removed]",
      "text/plain": [
       "<Figure size 720x576 with 1 Axes>"
      ]
     },
     "metadata": {
      "needs_background": "light"
     },
     "output_type": "display_data"
    }
   ],
   "source": [
    "\n",
    "plt.figure(figsize=(10,8))\n",
    "plt.bar('p1','retweet_count', data=top_10)\n",
    "plt.xlabel('Breed', size=10)\n",
    "plt.xticks(size=10, rotation=50)\n",
    "plt.ylabel('Number of Retweets', size=10)\n",
    "plt.title('Top 10 Dog Breeds with Highest Number of Retweets')\n",
    "plt.show()"
   ]
  }
 ],
 "metadata": {
  "extensions": {
   "jupyter_dashboards": {
    "activeView": "report_default",
    "version": 1,
    "views": {
     "grid_default": {
      "cellMargin": 10,
      "defaultCellHeight": 20,
      "maxColumns": 12,
      "name": "grid",
      "type": "grid"
     },
     "report_default": {
      "name": "report",
      "type": "report"
     }
    }
   }
  },
  "kernelspec": {
   "display_name": "Python 3.6.13 ('py36')",
   "language": "python",
   "name": "python3"
  },
  "language_info": {
   "codemirror_mode": {
    "name": "ipython",
    "version": 3
   },
   "file_extension": ".py",
   "mimetype": "text/x-python",
   "name": "python",
   "nbconvert_exporter": "python",
   "pygments_lexer": "ipython3",
   "version": "3.6.13"
  },
  "vscode": {
   "interpreter": {
    "hash": "a56ef4f8f84c44b3b227f685597acccb1d96f2f638ff5d164cf8fb466a77a95f"
   }
  }
 },
 "nbformat": 4,
 "nbformat_minor": 2
}
